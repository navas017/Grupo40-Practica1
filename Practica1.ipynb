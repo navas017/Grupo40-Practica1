{
  "nbformat": 4,
  "nbformat_minor": 0,
  "metadata": {
    "colab": {
      "provenance": [],
      "collapsed_sections": [
        "x7SwWqrlwGVb"
      ],
      "toc_visible": true,
      "include_colab_link": true
    },
    "kernelspec": {
      "name": "python3",
      "display_name": "Python 3"
    },
    "language_info": {
      "name": "python"
    }
  },
  "cells": [
    {
      "cell_type": "markdown",
      "metadata": {
        "id": "view-in-github",
        "colab_type": "text"
      },
      "source": [
        "<a href=\"https://colab.research.google.com/github/navas017/Grupo40-Practica1/blob/main/Practica1.ipynb\" target=\"_parent\"><img src=\"https://colab.research.google.com/assets/colab-badge.svg\" alt=\"Open In Colab\"/></a>"
      ]
    },
    {
      "cell_type": "code",
      "source": [
        "from google.colab import drive\n",
        "drive.mount('/content/drive')"
      ],
      "metadata": {
        "colab": {
          "base_uri": "https://localhost:8080/"
        },
        "id": "2dFBwHLZP22u",
        "outputId": "73a1d4d4-e95a-4a34-be65-0fe4c395d37b"
      },
      "execution_count": 1,
      "outputs": [
        {
          "output_type": "stream",
          "name": "stdout",
          "text": [
            "Mounted at /content/drive\n"
          ]
        }
      ]
    },
    {
      "cell_type": "markdown",
      "source": [
        "# **IMPORTACIÓN DE LIBRERÍAS** "
      ],
      "metadata": {
        "id": "tFYQvXTKdS84"
      }
    },
    {
      "cell_type": "code",
      "source": [
        "import pandas as pd\n",
        "import numpy as np\n",
        "import urllib.request\n",
        "import bz2\n",
        "from sklearn.model_selection import GridSearchCV\n",
        "from sklearn.linear_model import LinearRegression\n",
        "from sklearn.neighbors import KNeighborsRegressor\n",
        "from sklearn.tree import DecisionTreeRegressor\n",
        "from sklearn.metrics import make_scorer, mean_absolute_error, mean_squared_error\n",
        "from sklearn import datasets\n",
        "from sklearn.model_selection import train_test_split\n",
        "from sklearn.svm import SVC\n",
        "from sklearn.svm import SVR\n",
        "from sklearn.metrics import accuracy_score\n",
        "from sklearn.ensemble import RandomForestRegressor\n",
        "from sklearn.model_selection import PredefinedSplit\n",
        "import matplotlib.pyplot as plt\n",
        "import math\n",
        "import time"
      ],
      "metadata": {
        "id": "h51fr2e7dQcT"
      },
      "execution_count": 2,
      "outputs": []
    },
    {
      "cell_type": "markdown",
      "source": [
        "# **ANÁLISIS EXPLORATORIO DE DATOS (EDA)**"
      ],
      "metadata": {
        "id": "KcqrVZ40zgrV"
      }
    },
    {
      "cell_type": "markdown",
      "source": [],
      "metadata": {
        "id": "7HgR4bVx76yB"
      }
    },
    {
      "cell_type": "markdown",
      "source": [
        "# **PROCESAMIENTO DE DATOS**"
      ],
      "metadata": {
        "id": "kQOXHsPMuWMo"
      }
    },
    {
      "cell_type": "markdown",
      "source": [
        "Lectura de archivos"
      ],
      "metadata": {
        "id": "fbcNjel_afJw"
      }
    },
    {
      "cell_type": "code",
      "execution_count": 3,
      "metadata": {
        "id": "8SIXNoTtYCuP",
        "colab": {
          "base_uri": "https://localhost:8080/",
          "height": 380
        },
        "outputId": "fa479f98-6445-4c71-b6ea-f0a4c23bc71b"
      },
      "outputs": [
        {
          "output_type": "error",
          "ename": "FileNotFoundError",
          "evalue": "ignored",
          "traceback": [
            "\u001b[0;31m---------------------------------------------------------------------------\u001b[0m",
            "\u001b[0;31mFileNotFoundError\u001b[0m                         Traceback (most recent call last)",
            "\u001b[0;32m<ipython-input-3-234a5e86bf84>\u001b[0m in \u001b[0;36m<module>\u001b[0;34m\u001b[0m\n\u001b[1;32m      1\u001b[0m \u001b[0;31m# Aprendizaje\u001b[0m\u001b[0;34m\u001b[0m\u001b[0;34m\u001b[0m\u001b[0m\n\u001b[0;32m----> 2\u001b[0;31m disp_df = pd.read_csv(\"/content/drive/MyDrive/Aprendizaje Automático/Datos/disp_st40ns1.txt.bz2\",\n\u001b[0m\u001b[1;32m      3\u001b[0m  \u001b[0mcompression\u001b[0m\u001b[0;34m=\u001b[0m\u001b[0;34m\"bz2\"\u001b[0m\u001b[0;34m,\u001b[0m\u001b[0;34m\u001b[0m\u001b[0;34m\u001b[0m\u001b[0m\n\u001b[1;32m      4\u001b[0m  index_col=0)\n\u001b[1;32m      5\u001b[0m \u001b[0;34m\u001b[0m\u001b[0m\n",
            "\u001b[0;32m/usr/local/lib/python3.9/dist-packages/pandas/util/_decorators.py\u001b[0m in \u001b[0;36mwrapper\u001b[0;34m(*args, **kwargs)\u001b[0m\n\u001b[1;32m    309\u001b[0m                     \u001b[0mstacklevel\u001b[0m\u001b[0;34m=\u001b[0m\u001b[0mstacklevel\u001b[0m\u001b[0;34m,\u001b[0m\u001b[0;34m\u001b[0m\u001b[0;34m\u001b[0m\u001b[0m\n\u001b[1;32m    310\u001b[0m                 )\n\u001b[0;32m--> 311\u001b[0;31m             \u001b[0;32mreturn\u001b[0m \u001b[0mfunc\u001b[0m\u001b[0;34m(\u001b[0m\u001b[0;34m*\u001b[0m\u001b[0margs\u001b[0m\u001b[0;34m,\u001b[0m \u001b[0;34m**\u001b[0m\u001b[0mkwargs\u001b[0m\u001b[0;34m)\u001b[0m\u001b[0;34m\u001b[0m\u001b[0;34m\u001b[0m\u001b[0m\n\u001b[0m\u001b[1;32m    312\u001b[0m \u001b[0;34m\u001b[0m\u001b[0m\n\u001b[1;32m    313\u001b[0m         \u001b[0;32mreturn\u001b[0m \u001b[0mwrapper\u001b[0m\u001b[0;34m\u001b[0m\u001b[0;34m\u001b[0m\u001b[0m\n",
            "\u001b[0;32m/usr/local/lib/python3.9/dist-packages/pandas/io/parsers/readers.py\u001b[0m in \u001b[0;36mread_csv\u001b[0;34m(filepath_or_buffer, sep, delimiter, header, names, index_col, usecols, squeeze, prefix, mangle_dupe_cols, dtype, engine, converters, true_values, false_values, skipinitialspace, skiprows, skipfooter, nrows, na_values, keep_default_na, na_filter, verbose, skip_blank_lines, parse_dates, infer_datetime_format, keep_date_col, date_parser, dayfirst, cache_dates, iterator, chunksize, compression, thousands, decimal, lineterminator, quotechar, quoting, doublequote, escapechar, comment, encoding, encoding_errors, dialect, error_bad_lines, warn_bad_lines, on_bad_lines, delim_whitespace, low_memory, memory_map, float_precision, storage_options)\u001b[0m\n\u001b[1;32m    584\u001b[0m     \u001b[0mkwds\u001b[0m\u001b[0;34m.\u001b[0m\u001b[0mupdate\u001b[0m\u001b[0;34m(\u001b[0m\u001b[0mkwds_defaults\u001b[0m\u001b[0;34m)\u001b[0m\u001b[0;34m\u001b[0m\u001b[0;34m\u001b[0m\u001b[0m\n\u001b[1;32m    585\u001b[0m \u001b[0;34m\u001b[0m\u001b[0m\n\u001b[0;32m--> 586\u001b[0;31m     \u001b[0;32mreturn\u001b[0m \u001b[0m_read\u001b[0m\u001b[0;34m(\u001b[0m\u001b[0mfilepath_or_buffer\u001b[0m\u001b[0;34m,\u001b[0m \u001b[0mkwds\u001b[0m\u001b[0;34m)\u001b[0m\u001b[0;34m\u001b[0m\u001b[0;34m\u001b[0m\u001b[0m\n\u001b[0m\u001b[1;32m    587\u001b[0m \u001b[0;34m\u001b[0m\u001b[0m\n\u001b[1;32m    588\u001b[0m \u001b[0;34m\u001b[0m\u001b[0m\n",
            "\u001b[0;32m/usr/local/lib/python3.9/dist-packages/pandas/io/parsers/readers.py\u001b[0m in \u001b[0;36m_read\u001b[0;34m(filepath_or_buffer, kwds)\u001b[0m\n\u001b[1;32m    480\u001b[0m \u001b[0;34m\u001b[0m\u001b[0m\n\u001b[1;32m    481\u001b[0m     \u001b[0;31m# Create the parser.\u001b[0m\u001b[0;34m\u001b[0m\u001b[0;34m\u001b[0m\u001b[0m\n\u001b[0;32m--> 482\u001b[0;31m     \u001b[0mparser\u001b[0m \u001b[0;34m=\u001b[0m \u001b[0mTextFileReader\u001b[0m\u001b[0;34m(\u001b[0m\u001b[0mfilepath_or_buffer\u001b[0m\u001b[0;34m,\u001b[0m \u001b[0;34m**\u001b[0m\u001b[0mkwds\u001b[0m\u001b[0;34m)\u001b[0m\u001b[0;34m\u001b[0m\u001b[0;34m\u001b[0m\u001b[0m\n\u001b[0m\u001b[1;32m    483\u001b[0m \u001b[0;34m\u001b[0m\u001b[0m\n\u001b[1;32m    484\u001b[0m     \u001b[0;32mif\u001b[0m \u001b[0mchunksize\u001b[0m \u001b[0;32mor\u001b[0m \u001b[0miterator\u001b[0m\u001b[0;34m:\u001b[0m\u001b[0;34m\u001b[0m\u001b[0;34m\u001b[0m\u001b[0m\n",
            "\u001b[0;32m/usr/local/lib/python3.9/dist-packages/pandas/io/parsers/readers.py\u001b[0m in \u001b[0;36m__init__\u001b[0;34m(self, f, engine, **kwds)\u001b[0m\n\u001b[1;32m    809\u001b[0m             \u001b[0mself\u001b[0m\u001b[0;34m.\u001b[0m\u001b[0moptions\u001b[0m\u001b[0;34m[\u001b[0m\u001b[0;34m\"has_index_names\"\u001b[0m\u001b[0;34m]\u001b[0m \u001b[0;34m=\u001b[0m \u001b[0mkwds\u001b[0m\u001b[0;34m[\u001b[0m\u001b[0;34m\"has_index_names\"\u001b[0m\u001b[0;34m]\u001b[0m\u001b[0;34m\u001b[0m\u001b[0;34m\u001b[0m\u001b[0m\n\u001b[1;32m    810\u001b[0m \u001b[0;34m\u001b[0m\u001b[0m\n\u001b[0;32m--> 811\u001b[0;31m         \u001b[0mself\u001b[0m\u001b[0;34m.\u001b[0m\u001b[0m_engine\u001b[0m \u001b[0;34m=\u001b[0m \u001b[0mself\u001b[0m\u001b[0;34m.\u001b[0m\u001b[0m_make_engine\u001b[0m\u001b[0;34m(\u001b[0m\u001b[0mself\u001b[0m\u001b[0;34m.\u001b[0m\u001b[0mengine\u001b[0m\u001b[0;34m)\u001b[0m\u001b[0;34m\u001b[0m\u001b[0;34m\u001b[0m\u001b[0m\n\u001b[0m\u001b[1;32m    812\u001b[0m \u001b[0;34m\u001b[0m\u001b[0m\n\u001b[1;32m    813\u001b[0m     \u001b[0;32mdef\u001b[0m \u001b[0mclose\u001b[0m\u001b[0;34m(\u001b[0m\u001b[0mself\u001b[0m\u001b[0;34m)\u001b[0m\u001b[0;34m:\u001b[0m\u001b[0;34m\u001b[0m\u001b[0;34m\u001b[0m\u001b[0m\n",
            "\u001b[0;32m/usr/local/lib/python3.9/dist-packages/pandas/io/parsers/readers.py\u001b[0m in \u001b[0;36m_make_engine\u001b[0;34m(self, engine)\u001b[0m\n\u001b[1;32m   1038\u001b[0m             )\n\u001b[1;32m   1039\u001b[0m         \u001b[0;31m# error: Too many arguments for \"ParserBase\"\u001b[0m\u001b[0;34m\u001b[0m\u001b[0;34m\u001b[0m\u001b[0m\n\u001b[0;32m-> 1040\u001b[0;31m         \u001b[0;32mreturn\u001b[0m \u001b[0mmapping\u001b[0m\u001b[0;34m[\u001b[0m\u001b[0mengine\u001b[0m\u001b[0;34m]\u001b[0m\u001b[0;34m(\u001b[0m\u001b[0mself\u001b[0m\u001b[0;34m.\u001b[0m\u001b[0mf\u001b[0m\u001b[0;34m,\u001b[0m \u001b[0;34m**\u001b[0m\u001b[0mself\u001b[0m\u001b[0;34m.\u001b[0m\u001b[0moptions\u001b[0m\u001b[0;34m)\u001b[0m  \u001b[0;31m# type: ignore[call-arg]\u001b[0m\u001b[0;34m\u001b[0m\u001b[0;34m\u001b[0m\u001b[0m\n\u001b[0m\u001b[1;32m   1041\u001b[0m \u001b[0;34m\u001b[0m\u001b[0m\n\u001b[1;32m   1042\u001b[0m     \u001b[0;32mdef\u001b[0m \u001b[0m_failover_to_python\u001b[0m\u001b[0;34m(\u001b[0m\u001b[0mself\u001b[0m\u001b[0;34m)\u001b[0m\u001b[0;34m:\u001b[0m\u001b[0;34m\u001b[0m\u001b[0;34m\u001b[0m\u001b[0m\n",
            "\u001b[0;32m/usr/local/lib/python3.9/dist-packages/pandas/io/parsers/c_parser_wrapper.py\u001b[0m in \u001b[0;36m__init__\u001b[0;34m(self, src, **kwds)\u001b[0m\n\u001b[1;32m     49\u001b[0m \u001b[0;34m\u001b[0m\u001b[0m\n\u001b[1;32m     50\u001b[0m         \u001b[0;31m# open handles\u001b[0m\u001b[0;34m\u001b[0m\u001b[0;34m\u001b[0m\u001b[0m\n\u001b[0;32m---> 51\u001b[0;31m         \u001b[0mself\u001b[0m\u001b[0;34m.\u001b[0m\u001b[0m_open_handles\u001b[0m\u001b[0;34m(\u001b[0m\u001b[0msrc\u001b[0m\u001b[0;34m,\u001b[0m \u001b[0mkwds\u001b[0m\u001b[0;34m)\u001b[0m\u001b[0;34m\u001b[0m\u001b[0;34m\u001b[0m\u001b[0m\n\u001b[0m\u001b[1;32m     52\u001b[0m         \u001b[0;32massert\u001b[0m \u001b[0mself\u001b[0m\u001b[0;34m.\u001b[0m\u001b[0mhandles\u001b[0m \u001b[0;32mis\u001b[0m \u001b[0;32mnot\u001b[0m \u001b[0;32mNone\u001b[0m\u001b[0;34m\u001b[0m\u001b[0;34m\u001b[0m\u001b[0m\n\u001b[1;32m     53\u001b[0m \u001b[0;34m\u001b[0m\u001b[0m\n",
            "\u001b[0;32m/usr/local/lib/python3.9/dist-packages/pandas/io/parsers/base_parser.py\u001b[0m in \u001b[0;36m_open_handles\u001b[0;34m(self, src, kwds)\u001b[0m\n\u001b[1;32m    220\u001b[0m         \u001b[0mLet\u001b[0m \u001b[0mthe\u001b[0m \u001b[0mreaders\u001b[0m \u001b[0mopen\u001b[0m \u001b[0mIOHandles\u001b[0m \u001b[0mafter\u001b[0m \u001b[0mthey\u001b[0m \u001b[0mare\u001b[0m \u001b[0mdone\u001b[0m \u001b[0;32mwith\u001b[0m \u001b[0mtheir\u001b[0m \u001b[0mpotential\u001b[0m \u001b[0mraises\u001b[0m\u001b[0;34m.\u001b[0m\u001b[0;34m\u001b[0m\u001b[0;34m\u001b[0m\u001b[0m\n\u001b[1;32m    221\u001b[0m         \"\"\"\n\u001b[0;32m--> 222\u001b[0;31m         self.handles = get_handle(\n\u001b[0m\u001b[1;32m    223\u001b[0m             \u001b[0msrc\u001b[0m\u001b[0;34m,\u001b[0m\u001b[0;34m\u001b[0m\u001b[0;34m\u001b[0m\u001b[0m\n\u001b[1;32m    224\u001b[0m             \u001b[0;34m\"r\"\u001b[0m\u001b[0;34m,\u001b[0m\u001b[0;34m\u001b[0m\u001b[0;34m\u001b[0m\u001b[0m\n",
            "\u001b[0;32m/usr/local/lib/python3.9/dist-packages/pandas/io/common.py\u001b[0m in \u001b[0;36mget_handle\u001b[0;34m(path_or_buf, mode, encoding, compression, memory_map, is_text, errors, storage_options)\u001b[0m\n\u001b[1;32m    657\u001b[0m         \u001b[0;31m# BZ Compression\u001b[0m\u001b[0;34m\u001b[0m\u001b[0;34m\u001b[0m\u001b[0m\n\u001b[1;32m    658\u001b[0m         \u001b[0;32melif\u001b[0m \u001b[0mcompression\u001b[0m \u001b[0;34m==\u001b[0m \u001b[0;34m\"bz2\"\u001b[0m\u001b[0;34m:\u001b[0m\u001b[0;34m\u001b[0m\u001b[0;34m\u001b[0m\u001b[0m\n\u001b[0;32m--> 659\u001b[0;31m             handle = bz2.BZ2File(\n\u001b[0m\u001b[1;32m    660\u001b[0m                 \u001b[0;31m# Argument 1 to \"BZ2File\" has incompatible type \"Union[str,\u001b[0m\u001b[0;34m\u001b[0m\u001b[0;34m\u001b[0m\u001b[0m\n\u001b[1;32m    661\u001b[0m                 \u001b[0;31m# Union[IO[Any], RawIOBase, BufferedIOBase, TextIOBase, TextIOWrapper,\u001b[0m\u001b[0;34m\u001b[0m\u001b[0;34m\u001b[0m\u001b[0m\n",
            "\u001b[0;32m/usr/lib/python3.9/bz2.py\u001b[0m in \u001b[0;36m__init__\u001b[0;34m(self, filename, mode, compresslevel)\u001b[0m\n\u001b[1;32m     83\u001b[0m \u001b[0;34m\u001b[0m\u001b[0m\n\u001b[1;32m     84\u001b[0m         \u001b[0;32mif\u001b[0m \u001b[0misinstance\u001b[0m\u001b[0;34m(\u001b[0m\u001b[0mfilename\u001b[0m\u001b[0;34m,\u001b[0m \u001b[0;34m(\u001b[0m\u001b[0mstr\u001b[0m\u001b[0;34m,\u001b[0m \u001b[0mbytes\u001b[0m\u001b[0;34m,\u001b[0m \u001b[0mos\u001b[0m\u001b[0;34m.\u001b[0m\u001b[0mPathLike\u001b[0m\u001b[0;34m)\u001b[0m\u001b[0;34m)\u001b[0m\u001b[0;34m:\u001b[0m\u001b[0;34m\u001b[0m\u001b[0;34m\u001b[0m\u001b[0m\n\u001b[0;32m---> 85\u001b[0;31m             \u001b[0mself\u001b[0m\u001b[0;34m.\u001b[0m\u001b[0m_fp\u001b[0m \u001b[0;34m=\u001b[0m \u001b[0m_builtin_open\u001b[0m\u001b[0;34m(\u001b[0m\u001b[0mfilename\u001b[0m\u001b[0;34m,\u001b[0m \u001b[0mmode\u001b[0m\u001b[0;34m)\u001b[0m\u001b[0;34m\u001b[0m\u001b[0;34m\u001b[0m\u001b[0m\n\u001b[0m\u001b[1;32m     86\u001b[0m             \u001b[0mself\u001b[0m\u001b[0;34m.\u001b[0m\u001b[0m_closefp\u001b[0m \u001b[0;34m=\u001b[0m \u001b[0;32mTrue\u001b[0m\u001b[0;34m\u001b[0m\u001b[0;34m\u001b[0m\u001b[0m\n\u001b[1;32m     87\u001b[0m             \u001b[0mself\u001b[0m\u001b[0;34m.\u001b[0m\u001b[0m_mode\u001b[0m \u001b[0;34m=\u001b[0m \u001b[0mmode_code\u001b[0m\u001b[0;34m\u001b[0m\u001b[0;34m\u001b[0m\u001b[0m\n",
            "\u001b[0;31mFileNotFoundError\u001b[0m: [Errno 2] No such file or directory: '/content/drive/MyDrive/Aprendizaje Automático/Datos/disp_st40ns1.txt.bz2'"
          ]
        }
      ],
      "source": [
        "# Aprendizaje\n",
        "disp_df = pd.read_csv(\"/content/drive/MyDrive/Aprendizaje Automático/Datos/disp_st40ns1.txt.bz2\",\n",
        " compression=\"bz2\",\n",
        " index_col=0)\n",
        "\n",
        "# Test\n",
        "comp_df = pd.read_csv(\"/content/drive/MyDrive/Aprendizaje Automático/Datos/comp_st40ns1.txt.bz2\",\n",
        " compression=\"bz2\",\n",
        " index_col=0)"
      ]
    },
    {
      "cell_type": "markdown",
      "source": [
        "Normalización de valores"
      ],
      "metadata": {
        "id": "8UDg_fM74FZm"
      }
    },
    {
      "cell_type": "code",
      "source": [
        "# Seleccionar todas las columnas a normalizar\n",
        "cols_to_norm_disp = disp_df.columns\n",
        "cols_to_norm_comp = comp_df.columns\n",
        "\n",
        "# Maximos y minimos para cada columna\n",
        "dispMaxCol = disp_df[cols_to_norm_disp].max()\n",
        "dispMinCol = disp_df[cols_to_norm_disp].min()\n",
        "\n",
        "compMaxCol = comp_df[cols_to_norm_comp].max()\n",
        "compMinCol = comp_df[cols_to_norm_comp].min()\n",
        "\n",
        "# Escalar los valores de las columnas en el rango [0, 1]\n",
        "disp_norm = (disp_df[cols_to_norm_disp] - dispMinCol) / (dispMaxCol - dispMinCol)\n",
        "comp_norm = (comp_df[cols_to_norm_comp] - compMinCol) / (compMaxCol - compMinCol)\n",
        "\n",
        "# Desnormalizar valor\n",
        "disp_desnorm = disp_norm[cols_to_norm_disp] * (dispMaxCol - dispMinCol) + dispMinCol\n",
        "comp_desnorm = comp_norm[cols_to_norm_comp] * (compMaxCol - compMinCol) + compMinCol"
      ],
      "metadata": {
        "id": "P6fgsGYa4G_1"
      },
      "execution_count": null,
      "outputs": []
    },
    {
      "cell_type": "markdown",
      "source": [
        "Partición de datos en conjuntos de entrenamiento y test"
      ],
      "metadata": {
        "id": "Px_Qygikc9mT"
      }
    },
    {
      "cell_type": "code",
      "source": [
        "# Conjunto de datos no normalizados\n",
        "train = disp_df.iloc[:3650]\n",
        "test = disp_df.iloc[3650:]\n",
        "\n",
        "# Tamaños de los conjuntos de datos\n",
        "n_train = train.shape[0]\n",
        "n_test = test.shape[0]\n",
        "\n",
        "# Conjunto de datos normalizados\n",
        "train_norm = disp_norm.iloc[:3650]\n",
        "test_norm = disp_norm.iloc[3650:]"
      ],
      "metadata": {
        "id": "Qo6MYoVxa6Jt"
      },
      "execution_count": null,
      "outputs": []
    },
    {
      "cell_type": "markdown",
      "source": [
        "Predefined Split para optimización de parámetros"
      ],
      "metadata": {
        "id": "guMTvlSPkC07"
      }
    },
    {
      "cell_type": "code",
      "source": [
        "selector = [-1] * n_train + [0] * n_test\n",
        "cv = PredefinedSplit(selector)\n",
        "split = cv.get_n_splits(disp_df)"
      ],
      "metadata": {
        "id": "E2GJ1U9akHEB"
      },
      "execution_count": null,
      "outputs": []
    },
    {
      "cell_type": "markdown",
      "source": [
        "Randomización de las filas en los ficheros de train y test y valores de entrenamiento"
      ],
      "metadata": {
        "id": "UvhkEI4GdiTg"
      }
    },
    {
      "cell_type": "code",
      "source": [
        "# Para la randomizacion de filas se usa la semilla 100429142\n",
        "train_random = train.sample(frac=1, random_state=100429142).reset_index(drop=True)\n",
        "test_random = test.sample(frac=1, random_state=100429142).reset_index(drop=True)\n",
        "\n",
        "# Randomizacion de conjuntos normalizados\n",
        "train_random_norm = train_norm.sample(frac=1, random_state=100429142).reset_index(drop=True)\n",
        "test_random_norm = test_norm.sample(frac=1, random_state=100429142).reset_index(drop=True)\n",
        "\n",
        "# Separa las variables independientes (X) de la variable dependiente (y)\n",
        "X_train = train_random.iloc[:, :-1]\n",
        "Y_train = train_random.iloc[:, -1]\n",
        "\n",
        "# Variables de conjunto de datos normalizado\n",
        "X_train_norm = train_random_norm.iloc[:, :-1]\n",
        "Y_train_norm = train_random_norm.iloc[:, -1]"
      ],
      "metadata": {
        "id": "sSMSUlBHdnZQ"
      },
      "execution_count": null,
      "outputs": []
    },
    {
      "cell_type": "markdown",
      "source": [
        "# **MODELOS BÁSICOS**"
      ],
      "metadata": {
        "id": "Qk8bWTYWpJfG"
      }
    },
    {
      "cell_type": "markdown",
      "source": [
        "## **OMISIÓN DE HIPERPARÁMETROS**"
      ],
      "metadata": {
        "id": "F3JFXNoNpXE6"
      }
    },
    {
      "cell_type": "markdown",
      "source": [
        "Modelo *KNN* con omisión de hiperparámetros"
      ],
      "metadata": {
        "id": "2By3LI5Cf5xT"
      }
    },
    {
      "cell_type": "code",
      "source": [
        "# USA LOS VALORES NORMALIZADOS\n",
        "# EXPLICAR PORQUE SE NORMALIZA CON EL KNN\n",
        "# TIENE 5 NEIGHBORS POR DEFECTO\n",
        "\n",
        "# Crear el modelo con los parámetros por defecto\n",
        "knn = KNeighborsRegressor()\n",
        "\n",
        "# Iniciar la medición del tiempo\n",
        "start_time = time.time()\n",
        "\n",
        "# Entrena el modelo con el conjunto de entrenamiento\n",
        "knn.fit(X_train_norm, Y_train_norm)\n",
        "\n",
        "# Finalizar la medición del tiempo y calculo del tiempo\n",
        "end_time = time.time()\n",
        "knn_training_time = round((end_time - start_time) * 1000, 6)\n",
        "\n",
        "# Realiza predicciones en el conjunto de entrenamiento\n",
        "y_pred_train = knn.predict(X_train_norm)\n",
        "\n",
        "# Calcula el MAE y el RMSE\n",
        "knn_mae = mean_absolute_error(Y_train_norm, y_pred_train)\n",
        "knn_rmse = math.sqrt(mean_squared_error(Y_train_norm, y_pred_train))"
      ],
      "metadata": {
        "id": "fF4BlSOUgf5f"
      },
      "execution_count": null,
      "outputs": []
    },
    {
      "cell_type": "markdown",
      "source": [
        "Modelo Árbol de decisión con omisión de hiperparámetros"
      ],
      "metadata": {
        "id": "hkjllYEtpiNE"
      }
    },
    {
      "cell_type": "code",
      "source": [
        "# EXPLICAR EL SOBREAPRENDIZAJE SI NO SE LIMITA LA MAX_DEPTH\n",
        "# ACABA CON 2^N HOJAS (CADA HOJA ES UN VALOR DE SALIDA)\n",
        "\n",
        "# Crear el modelo con los parámetros por defecto\n",
        "tree = DecisionTreeRegressor()\n",
        "\n",
        "# Iniciar la medición del tiempo\n",
        "start_time = time.time()\n",
        "\n",
        "# Entrenar el modelo\n",
        "tree.fit(X_train, Y_train)\n",
        "\n",
        "# Finalizar la medición del tiempo y calculo del tiempo\n",
        "end_time = time.time()\n",
        "decision_training_time = round((end_time - start_time) * 1000, 6)\n",
        "\n",
        "# Realizar predicciones en el conjunto de entrenamiento\n",
        "Y_pred = tree.predict(X_train)\n",
        "\n",
        "# Calcular el MAE y el RMSE\n",
        "decision_mae = mean_absolute_error(Y_train, Y_pred)\n",
        "decision_rmse = math.sqrt(mean_squared_error(Y_train, Y_pred))"
      ],
      "metadata": {
        "id": "xynV8KtFpoOX"
      },
      "execution_count": null,
      "outputs": []
    },
    {
      "cell_type": "markdown",
      "source": [
        "Modelo Árbol de regresión lineal con omisión de hiperparámetros"
      ],
      "metadata": {
        "id": "4P_wgW7ErlfS"
      }
    },
    {
      "cell_type": "code",
      "source": [
        "# Crear modelo\n",
        "modelo_rl = LinearRegression()\n",
        "\n",
        "# Iniciar la medición del tiempo\n",
        "start_time = time.time()\n",
        "\n",
        "# Entrenar modelo\n",
        "modelo_rl.fit(X_train_norm, Y_train_norm)\n",
        "\n",
        "# Finalizar la medición del tiempo y calculo del tiempo\n",
        "end_time = time.time()\n",
        "reg_training_time = round((end_time - start_time) * 1000, 6)\n",
        "\n",
        "# Predecir valores para datos de test\n",
        "y_pred = modelo_rl.predict(X_train_norm)\n",
        "\n",
        "# Calcular el MAE y el RMSE\n",
        "reg_mae = mean_absolute_error(Y_train_norm, y_pred)\n",
        "reg_rmse = math.sqrt(mean_squared_error(Y_train_norm, y_pred))"
      ],
      "metadata": {
        "id": "AgomG4NqroTo"
      },
      "execution_count": null,
      "outputs": []
    },
    {
      "cell_type": "markdown",
      "source": [
        "## **COMPARATIVA MODELOS BÁSICOS**"
      ],
      "metadata": {
        "id": "rGW8onIkqXsQ"
      }
    },
    {
      "cell_type": "markdown",
      "source": [
        "Tabla de datos"
      ],
      "metadata": {
        "id": "BctNq2I_skKE"
      }
    },
    {
      "cell_type": "code",
      "source": [
        "# Crear un diccionario con los valores de MAE, RMSE y tiempo de ejecución de cada modelo\n",
        "data = {'KNN': [knn_mae, knn_rmse, knn_training_time],\n",
        "        'Árbol de decisión': [decision_mae, decision_rmse, decision_training_time],\n",
        "        'Regresión lineal': [reg_mae, reg_rmse, reg_training_time]}\n",
        "\n",
        "# Crear un DataFrame de pandas con los valores del diccionario y especificar las etiquetas de filas y columnas\n",
        "df = pd.DataFrame(data, index=['MAE', 'RMSE', 'Tiempo de entrenamiento (ms)'])\n",
        "\n",
        "# Imprimir el DataFrame\n",
        "df"
      ],
      "metadata": {
        "id": "TKaf1lnHrVJn"
      },
      "execution_count": null,
      "outputs": []
    },
    {
      "cell_type": "markdown",
      "source": [
        "Gráfica comparativa del MAE"
      ],
      "metadata": {
        "id": "4kSDcnCHtD0u"
      }
    },
    {
      "cell_type": "code",
      "source": [
        "# Obtener los valores de MAE para cada modelo\n",
        "mae_values = df.loc['MAE']\n",
        "\n",
        "# Crear un gráfico de barras\n",
        "fig, ax = plt.subplots()\n",
        "ax.bar(mae_values.index, mae_values.values)\n",
        "\n",
        "# Personalizar el gráfico\n",
        "ax.set_title('MAE para los tres modelos')\n",
        "ax.set_xlabel('Modelo')\n",
        "ax.set_ylabel('MAE')\n",
        "plt.show()"
      ],
      "metadata": {
        "id": "LtJ7u3NVujzG"
      },
      "execution_count": null,
      "outputs": []
    },
    {
      "cell_type": "markdown",
      "source": [
        "Gráfica comparativa del RMSE"
      ],
      "metadata": {
        "id": "vdqMP8hHukW6"
      }
    },
    {
      "cell_type": "code",
      "source": [
        "# Obtener los valores de RMSE para cada modelo\n",
        "rmse_values = df.loc['RMSE']\n",
        "\n",
        "# Crear un gráfico de barras\n",
        "fig, ax = plt.subplots()\n",
        "ax.bar(rmse_values.index, rmse_values.values)\n",
        "\n",
        "# Personalizar el gráfico\n",
        "ax.set_title('RMSE para los tres modelos')\n",
        "ax.set_xlabel('Modelo')\n",
        "ax.set_ylabel('RMSE')\n",
        "plt.show()"
      ],
      "metadata": {
        "id": "tUDcZI1YumUZ"
      },
      "execution_count": null,
      "outputs": []
    },
    {
      "cell_type": "markdown",
      "source": [
        "Gráfica comparativa del Tiempo de entrenamiento"
      ],
      "metadata": {
        "id": "qBCN0wPJun4u"
      }
    },
    {
      "cell_type": "code",
      "source": [
        "# Obtener los valores de tiempo de entrenamiento para cada modelo\n",
        "time_values = df.loc['Tiempo de entrenamiento (ms)']\n",
        "\n",
        "# Crear un gráfico de barras\n",
        "fig, ax = plt.subplots()\n",
        "ax.bar(time_values.index, time_values.values)\n",
        "\n",
        "# Personalizar el gráfico\n",
        "ax.set_title('Tiempo de entrenamiento para los tres modelos')\n",
        "ax.set_xlabel('Modelo')\n",
        "ax.set_ylabel('Tiempo de entrenamiento (ms)')\n",
        "plt.show()"
      ],
      "metadata": {
        "id": "AVTXWSPQtF_Y"
      },
      "execution_count": null,
      "outputs": []
    },
    {
      "cell_type": "markdown",
      "source": [
        "## **OPTIMIZACIÓN DE HIPERPARÁMETROS**"
      ],
      "metadata": {
        "id": "Vx6k8ZDUpw9N"
      }
    },
    {
      "cell_type": "markdown",
      "source": [
        "Modelo KNN con hiperparámetros óptimos"
      ],
      "metadata": {
        "id": "aVsbcOs8j90o"
      }
    },
    {
      "cell_type": "code",
      "source": [
        "# PARA LA OPTIMIZACION DE PARAMETROS HAY QUE OBTENER EL CV USANDO LOS SPLITS (AG DEL PROFE)\n",
        "knn = KNeighborsRegressor()\n",
        "\n",
        "# Definir cuadrícula de valores de hiperparámetros a explorar\n",
        "param_grid = {'n_neighbors': [7, 8, 9, 10, 11, 12, 15]}\n",
        "\n",
        "# Definir métricas de evaluación a utilizar\n",
        "scoring = { 'MAE': make_scorer(mean_absolute_error, greater_is_better=False) }\n",
        "#scoring = {'MAE': make_scorer(mean_absolute_error, greater_is_better=False), 'RMSE': make_scorer(mean_squared_error, squared=False, greater_is_better=False)}\n",
        "\n",
        "# Realizar búsqueda exhaustiva de los mejores valores de los hiperparámetros\n",
        "grid_search = GridSearchCV(knn, param_grid=param_grid, scoring=make_scorer(mean_absolute_error, greater_is_better=False), cv=5)\n",
        "grid_search.fit(X_train_norm, Y_train_norm)\n",
        "\n",
        "# Imprimir mejores valores de los hiperparámetros y su rendimiento en términos de MAE y RMSE\n",
        "print('Mejores valores de hiperparámetros:', grid_search.best_params_)\n",
        "print('MAE con hiperparámetros optimizados:', grid_search.cv_results_['mean_test_MAE'][grid_search.best_index_] * -1)\n",
        "print('RMSE con hiperparámetros optimizados:', grid_search.cv_results_['mean_test_RMSE'][grid_search.best_index_] * -1)"
      ],
      "metadata": {
        "id": "21DlKgNDknd2"
      },
      "execution_count": null,
      "outputs": []
    },
    {
      "cell_type": "markdown",
      "source": [
        "Modelo Árbol de Decisión con hiperparámetros óptimos"
      ],
      "metadata": {
        "id": "xZtYEppltAFw"
      }
    },
    {
      "cell_type": "code",
      "source": [
        "# Definir el modelo\n",
        "tree = DecisionTreeRegressor()\n",
        "\n",
        "# Definir los parámetros a probar\n",
        "param_grid = {'max_depth': [3, 5, 7, 9], 'min_samples_leaf': [1, 2, 4, 8]}\n",
        "\n",
        "scoring = {'MAE': make_scorer(mean_absolute_error, greater_is_better=False), 'RMSE': make_scorer(mean_squared_error, squared=False, greater_is_better=False)}\n",
        "\n",
        "# Definir la búsqueda por validación cruzada\n",
        "grid_search = GridSearchCV(tree, param_grid, cv=5, refit='MAE', scoring=scoring) #'neg_mean_squared_error'\n",
        "\n",
        "# Entrenar el modelo con los datos de entrenamiento\n",
        "grid_search.fit(X_train_norm, Y_train_norm)\n",
        "\n",
        "# Obtener los mejores parámetros y el mejor modelo\n",
        "best_params = grid_search.best_params_\n",
        "best_model = grid_search.best_estimator_\n",
        "\n",
        "# Realizar predicciones en el conjunto de entrenamiento\n",
        "Y_pred = best_model.predict(X_train_norm)\n",
        "\n",
        "# Calcular el MAE y el RMSE\n",
        "mae = mean_absolute_error(Y_train_norm, Y_pred)\n",
        "rmse = math.sqrt(mean_squared_error(Y_train_norm, Y_pred))\n",
        "\n",
        "# Imprimir los resultados\n",
        "print(\"Mejores parámetros: \", best_params)\n",
        "print(\"MAE: \", mae)\n",
        "print(\"RMSE: \", rmse)"
      ],
      "metadata": {
        "id": "yGp0RoYjtGDK"
      },
      "execution_count": null,
      "outputs": []
    },
    {
      "cell_type": "markdown",
      "source": [
        "Modelo Árbol de Regresión Lineal con hiperparámetros óptimos"
      ],
      "metadata": {
        "id": "CheK11FUtZVw"
      }
    },
    {
      "cell_type": "markdown",
      "source": [
        "HACER LASSO Y RIDGE"
      ],
      "metadata": {
        "id": "LlMveSl-ZTcB"
      }
    },
    {
      "cell_type": "markdown",
      "source": [
        "# **MODELOS AVANZADOS**"
      ],
      "metadata": {
        "id": "PQIGYzuuv4R8"
      }
    },
    {
      "cell_type": "markdown",
      "source": [
        "## **OMISIÓN DE HIPERPARÁMETROS**"
      ],
      "metadata": {
        "id": "idTqpkS_wB0c"
      }
    },
    {
      "cell_type": "markdown",
      "source": [
        "Modelo SVMs con omisión de hiperparámetros"
      ],
      "metadata": {
        "id": "MjVEuSqLm-OS"
      }
    },
    {
      "cell_type": "code",
      "source": [
        "# Crear un clasificador SVM sin ajuste de hiperparámetros\n",
        "clf = SVC(kernel='linear', C=1, random_state=0)\n",
        "\n",
        "# Entrenar el clasificador en los datos de entrenamiento\n",
        "clf.fit(X_train, Y_train)\n",
        "\n",
        "# Hacer predicciones en los datos de entrenamiento\n",
        "y_pred_train = clf.predict(X_train)\n",
        "\n",
        "# Evaluar el rendimiento del clasificador en los datos de entrenamiento\n",
        "accuracy_train = clf.score(X_train, Y_train)\n",
        "print(\"Accuracy en los datos de entrenamiento:\", accuracy_train)"
      ],
      "metadata": {
        "id": "pkv2jKEUm6ql"
      },
      "execution_count": null,
      "outputs": []
    },
    {
      "cell_type": "markdown",
      "source": [
        "Modelo Random Forests con omisión de hiperparámetros"
      ],
      "metadata": {
        "id": "a0JjQuQ7nYny"
      }
    },
    {
      "cell_type": "code",
      "source": [
        "# Crear modelo con los parámetros por defecto\n",
        "rf = RandomForestRegressor()\n",
        "\n",
        "# Entrenar el modelo\n",
        "rf.fit(X_train, Y_train)\n",
        "\n",
        "# Realizar predicciones en el conjunto de entrenamiento\n",
        "Y_pred = rf.predict(X_train)\n",
        "\n",
        "# Calcular el MAE y el RMSE\n",
        "mae = mean_absolute_error(Y_train, Y_pred)\n",
        "rmse = math.sqrt(mean_squared_error(Y_train, Y_pred))\n",
        "\n",
        "# Imprimir los resultados\n",
        "print(\"MAE: {:.2f}\".format(mae))\n",
        "print(\"RMSE: {:.2f}\".format(rmse))"
      ],
      "metadata": {
        "id": "d91hLeu9tB7I"
      },
      "execution_count": null,
      "outputs": []
    },
    {
      "cell_type": "markdown",
      "source": [
        "## **OPTIMIZACIÓN DE HIPERPARÁMETROS**"
      ],
      "metadata": {
        "id": "x7SwWqrlwGVb"
      }
    },
    {
      "cell_type": "markdown",
      "source": [
        "Modelo SVMs con hiperparámetros óptimos"
      ],
      "metadata": {
        "id": "Q6Fo4XZbnd8O"
      }
    },
    {
      "cell_type": "code",
      "source": [
        "# Definir los parámetros a optimizar\n",
        "param_grid = {'C': [0.1, 1, 10], 'epsilon': [0.1, 0.2, 0.3], 'gamma': ['scale', 'auto']}\n",
        "\n",
        "# Crear el modelo SVR\n",
        "svm = SVR()\n",
        "\n",
        "# Realizar la búsqueda de los mejores parámetros\n",
        "svm_opt = GridSearchCV(svm, param_grid, scoring='neg_mean_absolute_error', cv=5)\n",
        "svm_opt.fit(X_train, Y_train)\n",
        "\n",
        "# Obtener los mejores parámetros\n",
        "best_params = svm_opt.best_params_\n",
        "print(\"Mejores parámetros:\", best_params)\n",
        "\n",
        "# Entrenar el modelo con los mejores parámetros\n",
        "svm = SVR(**best_params)\n",
        "svm.fit(X_train, Y_train)\n",
        "\n",
        "# Realizar predicciones en el conjunto de entrenamiento\n",
        "Y_pred = svm.predict(X_train)\n",
        "\n",
        "# Calcular el MAE y el RMSE\n",
        "mae = mean_absolute_error(Y_train, Y_pred)\n",
        "rmse = math.sqrt(mean_squared_error(Y_train, Y_pred))\n",
        "\n",
        "# Imprimir los resultados\n",
        "print(\"MAE: {:.2f}\".format(mae))\n",
        "print(\"RMSE: {:.2f}\".format(rmse))"
      ],
      "metadata": {
        "id": "tE4Ah495niD3"
      },
      "execution_count": null,
      "outputs": []
    },
    {
      "cell_type": "markdown",
      "source": [
        "Modelo Random Forests con hiperparámetros óptimos"
      ],
      "metadata": {
        "id": "wJqZ_6Kgniev"
      }
    },
    {
      "cell_type": "code",
      "source": [
        "# Crear modelo de Random Forest\n",
        "rf = RandomForestRegressor()\n",
        "\n",
        "# Definir grid de hiperparámetros a evaluar\n",
        "param_grid = {\n",
        "    'n_estimators': [50, 100, 150],\n",
        "    'max_depth': [None, 5, 10],\n",
        "    'max_features': ['sqrt', 'log2']\n",
        "}\n",
        "\n",
        "# Crear objeto GridSearchCV para encontrar los mejores parámetros\n",
        "grid_rf = GridSearchCV(rf, param_grid, cv=3, n_jobs=-1, verbose=1)\n",
        "\n",
        "# Entrenar modelo con parámetros optimizados\n",
        "grid_rf.fit(X_train, Y_train)\n",
        "\n",
        "# Imprimir los mejores parámetros encontrados\n",
        "print(\"Mejores parámetros: \", grid_rf.best_params_)\n",
        "\n",
        "# Predecir valores para datos de test usando el modelo optimizado\n",
        "Y_pred = grid_rf.predict(X_train)\n",
        "\n",
        "# Calcular el MAE y el RMSE\n",
        "mae = mean_absolute_error(Y_train, Y_pred)\n",
        "rmse = math.sqrt(mean_squared_error(Y_train, Y_pred))\n",
        "\n",
        "# Imprimir los resultados\n",
        "print(\"MAE: {:.2f}\".format(mae))\n",
        "print(\"RMSE: {:.2f}\".format(rmse))"
      ],
      "metadata": {
        "id": "Jhp1pq_htS0H"
      },
      "execution_count": null,
      "outputs": []
    }
  ]
}