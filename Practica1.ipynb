{
  "nbformat": 4,
  "nbformat_minor": 0,
  "metadata": {
    "colab": {
      "provenance": []
    },
    "kernelspec": {
      "name": "python3",
      "display_name": "Python 3"
    },
    "language_info": {
      "name": "python"
    }
  },
  "cells": [
    {
      "cell_type": "markdown",
      "source": [
        "# **Importación de librerías** "
      ],
      "metadata": {
        "id": "tFYQvXTKdS84"
      }
    },
    {
      "cell_type": "code",
      "source": [
        "import pandas as pd\n",
        "import numpy as np\n",
        "from sklearn.model_selection import GridSearchCV\n",
        "from sklearn.linear_model import LinearRegression\n",
        "from sklearn.neighbors import KNeighborsRegressor\n",
        "from sklearn.tree import DecisionTreeRegressor\n",
        "from sklearn.metrics import make_scorer, mean_absolute_error, mean_squared_error\n",
        "import math"
      ],
      "metadata": {
        "id": "h51fr2e7dQcT"
      },
      "execution_count": 1,
      "outputs": []
    },
    {
      "cell_type": "markdown",
      "source": [
        "# **PROCESAMIENTO DE DATOS**"
      ],
      "metadata": {
        "id": "kQOXHsPMuWMo"
      }
    },
    {
      "cell_type": "markdown",
      "source": [
        "Lectura de archivos"
      ],
      "metadata": {
        "id": "fbcNjel_afJw"
      }
    },
    {
      "cell_type": "code",
      "execution_count": 8,
      "metadata": {
        "id": "8SIXNoTtYCuP",
        "colab": {
          "base_uri": "https://localhost:8080/",
          "height": 380
        },
        "outputId": "a58e8ebe-2c35-4466-d2d1-ddae931db2d8"
      },
      "outputs": [
        {
          "output_type": "error",
          "ename": "FileNotFoundError",
          "evalue": "ignored",
          "traceback": [
            "\u001b[0;31m---------------------------------------------------------------------------\u001b[0m",
            "\u001b[0;31mFileNotFoundError\u001b[0m                         Traceback (most recent call last)",
            "\u001b[0;32m<ipython-input-8-234a5e86bf84>\u001b[0m in \u001b[0;36m<module>\u001b[0;34m\u001b[0m\n\u001b[1;32m      1\u001b[0m \u001b[0;31m# Aprendizaje\u001b[0m\u001b[0;34m\u001b[0m\u001b[0;34m\u001b[0m\u001b[0;34m\u001b[0m\u001b[0m\n\u001b[0;32m----> 2\u001b[0;31m disp_df = pd.read_csv(\"/content/drive/MyDrive/Aprendizaje Automático/Datos/disp_st40ns1.txt.bz2\",\n\u001b[0m\u001b[1;32m      3\u001b[0m  \u001b[0mcompression\u001b[0m\u001b[0;34m=\u001b[0m\u001b[0;34m\"bz2\"\u001b[0m\u001b[0;34m,\u001b[0m\u001b[0;34m\u001b[0m\u001b[0;34m\u001b[0m\u001b[0m\n\u001b[1;32m      4\u001b[0m  index_col=0)\n\u001b[1;32m      5\u001b[0m \u001b[0;34m\u001b[0m\u001b[0m\n",
            "\u001b[0;32m/usr/local/lib/python3.8/dist-packages/pandas/util/_decorators.py\u001b[0m in \u001b[0;36mwrapper\u001b[0;34m(*args, **kwargs)\u001b[0m\n\u001b[1;32m    309\u001b[0m                     \u001b[0mstacklevel\u001b[0m\u001b[0;34m=\u001b[0m\u001b[0mstacklevel\u001b[0m\u001b[0;34m,\u001b[0m\u001b[0;34m\u001b[0m\u001b[0;34m\u001b[0m\u001b[0m\n\u001b[1;32m    310\u001b[0m                 )\n\u001b[0;32m--> 311\u001b[0;31m             \u001b[0;32mreturn\u001b[0m \u001b[0mfunc\u001b[0m\u001b[0;34m(\u001b[0m\u001b[0;34m*\u001b[0m\u001b[0margs\u001b[0m\u001b[0;34m,\u001b[0m \u001b[0;34m**\u001b[0m\u001b[0mkwargs\u001b[0m\u001b[0;34m)\u001b[0m\u001b[0;34m\u001b[0m\u001b[0;34m\u001b[0m\u001b[0m\n\u001b[0m\u001b[1;32m    312\u001b[0m \u001b[0;34m\u001b[0m\u001b[0m\n\u001b[1;32m    313\u001b[0m         \u001b[0;32mreturn\u001b[0m \u001b[0mwrapper\u001b[0m\u001b[0;34m\u001b[0m\u001b[0;34m\u001b[0m\u001b[0m\n",
            "\u001b[0;32m/usr/local/lib/python3.8/dist-packages/pandas/io/parsers/readers.py\u001b[0m in \u001b[0;36mread_csv\u001b[0;34m(filepath_or_buffer, sep, delimiter, header, names, index_col, usecols, squeeze, prefix, mangle_dupe_cols, dtype, engine, converters, true_values, false_values, skipinitialspace, skiprows, skipfooter, nrows, na_values, keep_default_na, na_filter, verbose, skip_blank_lines, parse_dates, infer_datetime_format, keep_date_col, date_parser, dayfirst, cache_dates, iterator, chunksize, compression, thousands, decimal, lineterminator, quotechar, quoting, doublequote, escapechar, comment, encoding, encoding_errors, dialect, error_bad_lines, warn_bad_lines, on_bad_lines, delim_whitespace, low_memory, memory_map, float_precision, storage_options)\u001b[0m\n\u001b[1;32m    584\u001b[0m     \u001b[0mkwds\u001b[0m\u001b[0;34m.\u001b[0m\u001b[0mupdate\u001b[0m\u001b[0;34m(\u001b[0m\u001b[0mkwds_defaults\u001b[0m\u001b[0;34m)\u001b[0m\u001b[0;34m\u001b[0m\u001b[0;34m\u001b[0m\u001b[0m\n\u001b[1;32m    585\u001b[0m \u001b[0;34m\u001b[0m\u001b[0m\n\u001b[0;32m--> 586\u001b[0;31m     \u001b[0;32mreturn\u001b[0m \u001b[0m_read\u001b[0m\u001b[0;34m(\u001b[0m\u001b[0mfilepath_or_buffer\u001b[0m\u001b[0;34m,\u001b[0m \u001b[0mkwds\u001b[0m\u001b[0;34m)\u001b[0m\u001b[0;34m\u001b[0m\u001b[0;34m\u001b[0m\u001b[0m\n\u001b[0m\u001b[1;32m    587\u001b[0m \u001b[0;34m\u001b[0m\u001b[0m\n\u001b[1;32m    588\u001b[0m \u001b[0;34m\u001b[0m\u001b[0m\n",
            "\u001b[0;32m/usr/local/lib/python3.8/dist-packages/pandas/io/parsers/readers.py\u001b[0m in \u001b[0;36m_read\u001b[0;34m(filepath_or_buffer, kwds)\u001b[0m\n\u001b[1;32m    480\u001b[0m \u001b[0;34m\u001b[0m\u001b[0m\n\u001b[1;32m    481\u001b[0m     \u001b[0;31m# Create the parser.\u001b[0m\u001b[0;34m\u001b[0m\u001b[0;34m\u001b[0m\u001b[0;34m\u001b[0m\u001b[0m\n\u001b[0;32m--> 482\u001b[0;31m     \u001b[0mparser\u001b[0m \u001b[0;34m=\u001b[0m \u001b[0mTextFileReader\u001b[0m\u001b[0;34m(\u001b[0m\u001b[0mfilepath_or_buffer\u001b[0m\u001b[0;34m,\u001b[0m \u001b[0;34m**\u001b[0m\u001b[0mkwds\u001b[0m\u001b[0;34m)\u001b[0m\u001b[0;34m\u001b[0m\u001b[0;34m\u001b[0m\u001b[0m\n\u001b[0m\u001b[1;32m    483\u001b[0m \u001b[0;34m\u001b[0m\u001b[0m\n\u001b[1;32m    484\u001b[0m     \u001b[0;32mif\u001b[0m \u001b[0mchunksize\u001b[0m \u001b[0;32mor\u001b[0m \u001b[0miterator\u001b[0m\u001b[0;34m:\u001b[0m\u001b[0;34m\u001b[0m\u001b[0;34m\u001b[0m\u001b[0m\n",
            "\u001b[0;32m/usr/local/lib/python3.8/dist-packages/pandas/io/parsers/readers.py\u001b[0m in \u001b[0;36m__init__\u001b[0;34m(self, f, engine, **kwds)\u001b[0m\n\u001b[1;32m    809\u001b[0m             \u001b[0mself\u001b[0m\u001b[0;34m.\u001b[0m\u001b[0moptions\u001b[0m\u001b[0;34m[\u001b[0m\u001b[0;34m\"has_index_names\"\u001b[0m\u001b[0;34m]\u001b[0m \u001b[0;34m=\u001b[0m \u001b[0mkwds\u001b[0m\u001b[0;34m[\u001b[0m\u001b[0;34m\"has_index_names\"\u001b[0m\u001b[0;34m]\u001b[0m\u001b[0;34m\u001b[0m\u001b[0;34m\u001b[0m\u001b[0m\n\u001b[1;32m    810\u001b[0m \u001b[0;34m\u001b[0m\u001b[0m\n\u001b[0;32m--> 811\u001b[0;31m         \u001b[0mself\u001b[0m\u001b[0;34m.\u001b[0m\u001b[0m_engine\u001b[0m \u001b[0;34m=\u001b[0m \u001b[0mself\u001b[0m\u001b[0;34m.\u001b[0m\u001b[0m_make_engine\u001b[0m\u001b[0;34m(\u001b[0m\u001b[0mself\u001b[0m\u001b[0;34m.\u001b[0m\u001b[0mengine\u001b[0m\u001b[0;34m)\u001b[0m\u001b[0;34m\u001b[0m\u001b[0;34m\u001b[0m\u001b[0m\n\u001b[0m\u001b[1;32m    812\u001b[0m \u001b[0;34m\u001b[0m\u001b[0m\n\u001b[1;32m    813\u001b[0m     \u001b[0;32mdef\u001b[0m \u001b[0mclose\u001b[0m\u001b[0;34m(\u001b[0m\u001b[0mself\u001b[0m\u001b[0;34m)\u001b[0m\u001b[0;34m:\u001b[0m\u001b[0;34m\u001b[0m\u001b[0;34m\u001b[0m\u001b[0m\n",
            "\u001b[0;32m/usr/local/lib/python3.8/dist-packages/pandas/io/parsers/readers.py\u001b[0m in \u001b[0;36m_make_engine\u001b[0;34m(self, engine)\u001b[0m\n\u001b[1;32m   1038\u001b[0m             )\n\u001b[1;32m   1039\u001b[0m         \u001b[0;31m# error: Too many arguments for \"ParserBase\"\u001b[0m\u001b[0;34m\u001b[0m\u001b[0;34m\u001b[0m\u001b[0;34m\u001b[0m\u001b[0m\n\u001b[0;32m-> 1040\u001b[0;31m         \u001b[0;32mreturn\u001b[0m \u001b[0mmapping\u001b[0m\u001b[0;34m[\u001b[0m\u001b[0mengine\u001b[0m\u001b[0;34m]\u001b[0m\u001b[0;34m(\u001b[0m\u001b[0mself\u001b[0m\u001b[0;34m.\u001b[0m\u001b[0mf\u001b[0m\u001b[0;34m,\u001b[0m \u001b[0;34m**\u001b[0m\u001b[0mself\u001b[0m\u001b[0;34m.\u001b[0m\u001b[0moptions\u001b[0m\u001b[0;34m)\u001b[0m  \u001b[0;31m# type: ignore[call-arg]\u001b[0m\u001b[0;34m\u001b[0m\u001b[0;34m\u001b[0m\u001b[0m\n\u001b[0m\u001b[1;32m   1041\u001b[0m \u001b[0;34m\u001b[0m\u001b[0m\n\u001b[1;32m   1042\u001b[0m     \u001b[0;32mdef\u001b[0m \u001b[0m_failover_to_python\u001b[0m\u001b[0;34m(\u001b[0m\u001b[0mself\u001b[0m\u001b[0;34m)\u001b[0m\u001b[0;34m:\u001b[0m\u001b[0;34m\u001b[0m\u001b[0;34m\u001b[0m\u001b[0m\n",
            "\u001b[0;32m/usr/local/lib/python3.8/dist-packages/pandas/io/parsers/c_parser_wrapper.py\u001b[0m in \u001b[0;36m__init__\u001b[0;34m(self, src, **kwds)\u001b[0m\n\u001b[1;32m     49\u001b[0m \u001b[0;34m\u001b[0m\u001b[0m\n\u001b[1;32m     50\u001b[0m         \u001b[0;31m# open handles\u001b[0m\u001b[0;34m\u001b[0m\u001b[0;34m\u001b[0m\u001b[0;34m\u001b[0m\u001b[0m\n\u001b[0;32m---> 51\u001b[0;31m         \u001b[0mself\u001b[0m\u001b[0;34m.\u001b[0m\u001b[0m_open_handles\u001b[0m\u001b[0;34m(\u001b[0m\u001b[0msrc\u001b[0m\u001b[0;34m,\u001b[0m \u001b[0mkwds\u001b[0m\u001b[0;34m)\u001b[0m\u001b[0;34m\u001b[0m\u001b[0;34m\u001b[0m\u001b[0m\n\u001b[0m\u001b[1;32m     52\u001b[0m         \u001b[0;32massert\u001b[0m \u001b[0mself\u001b[0m\u001b[0;34m.\u001b[0m\u001b[0mhandles\u001b[0m \u001b[0;32mis\u001b[0m \u001b[0;32mnot\u001b[0m \u001b[0;32mNone\u001b[0m\u001b[0;34m\u001b[0m\u001b[0;34m\u001b[0m\u001b[0m\n\u001b[1;32m     53\u001b[0m \u001b[0;34m\u001b[0m\u001b[0m\n",
            "\u001b[0;32m/usr/local/lib/python3.8/dist-packages/pandas/io/parsers/base_parser.py\u001b[0m in \u001b[0;36m_open_handles\u001b[0;34m(self, src, kwds)\u001b[0m\n\u001b[1;32m    220\u001b[0m         \u001b[0mLet\u001b[0m \u001b[0mthe\u001b[0m \u001b[0mreaders\u001b[0m \u001b[0mopen\u001b[0m \u001b[0mIOHandles\u001b[0m \u001b[0mafter\u001b[0m \u001b[0mthey\u001b[0m \u001b[0mare\u001b[0m \u001b[0mdone\u001b[0m \u001b[0;32mwith\u001b[0m \u001b[0mtheir\u001b[0m \u001b[0mpotential\u001b[0m \u001b[0mraises\u001b[0m\u001b[0;34m.\u001b[0m\u001b[0;34m\u001b[0m\u001b[0;34m\u001b[0m\u001b[0m\n\u001b[1;32m    221\u001b[0m         \"\"\"\n\u001b[0;32m--> 222\u001b[0;31m         self.handles = get_handle(\n\u001b[0m\u001b[1;32m    223\u001b[0m             \u001b[0msrc\u001b[0m\u001b[0;34m,\u001b[0m\u001b[0;34m\u001b[0m\u001b[0;34m\u001b[0m\u001b[0m\n\u001b[1;32m    224\u001b[0m             \u001b[0;34m\"r\"\u001b[0m\u001b[0;34m,\u001b[0m\u001b[0;34m\u001b[0m\u001b[0;34m\u001b[0m\u001b[0m\n",
            "\u001b[0;32m/usr/local/lib/python3.8/dist-packages/pandas/io/common.py\u001b[0m in \u001b[0;36mget_handle\u001b[0;34m(path_or_buf, mode, encoding, compression, memory_map, is_text, errors, storage_options)\u001b[0m\n\u001b[1;32m    657\u001b[0m         \u001b[0;31m# BZ Compression\u001b[0m\u001b[0;34m\u001b[0m\u001b[0;34m\u001b[0m\u001b[0;34m\u001b[0m\u001b[0m\n\u001b[1;32m    658\u001b[0m         \u001b[0;32melif\u001b[0m \u001b[0mcompression\u001b[0m \u001b[0;34m==\u001b[0m \u001b[0;34m\"bz2\"\u001b[0m\u001b[0;34m:\u001b[0m\u001b[0;34m\u001b[0m\u001b[0;34m\u001b[0m\u001b[0m\n\u001b[0;32m--> 659\u001b[0;31m             handle = bz2.BZ2File(\n\u001b[0m\u001b[1;32m    660\u001b[0m                 \u001b[0;31m# Argument 1 to \"BZ2File\" has incompatible type \"Union[str,\u001b[0m\u001b[0;34m\u001b[0m\u001b[0;34m\u001b[0m\u001b[0;34m\u001b[0m\u001b[0m\n\u001b[1;32m    661\u001b[0m                 \u001b[0;31m# Union[IO[Any], RawIOBase, BufferedIOBase, TextIOBase, TextIOWrapper,\u001b[0m\u001b[0;34m\u001b[0m\u001b[0;34m\u001b[0m\u001b[0;34m\u001b[0m\u001b[0m\n",
            "\u001b[0;32m/usr/lib/python3.8/bz2.py\u001b[0m in \u001b[0;36m__init__\u001b[0;34m(self, filename, mode, buffering, compresslevel)\u001b[0m\n\u001b[1;32m     94\u001b[0m \u001b[0;34m\u001b[0m\u001b[0m\n\u001b[1;32m     95\u001b[0m         \u001b[0;32mif\u001b[0m \u001b[0misinstance\u001b[0m\u001b[0;34m(\u001b[0m\u001b[0mfilename\u001b[0m\u001b[0;34m,\u001b[0m \u001b[0;34m(\u001b[0m\u001b[0mstr\u001b[0m\u001b[0;34m,\u001b[0m \u001b[0mbytes\u001b[0m\u001b[0;34m,\u001b[0m \u001b[0mos\u001b[0m\u001b[0;34m.\u001b[0m\u001b[0mPathLike\u001b[0m\u001b[0;34m)\u001b[0m\u001b[0;34m)\u001b[0m\u001b[0;34m:\u001b[0m\u001b[0;34m\u001b[0m\u001b[0;34m\u001b[0m\u001b[0m\n\u001b[0;32m---> 96\u001b[0;31m             \u001b[0mself\u001b[0m\u001b[0;34m.\u001b[0m\u001b[0m_fp\u001b[0m \u001b[0;34m=\u001b[0m \u001b[0m_builtin_open\u001b[0m\u001b[0;34m(\u001b[0m\u001b[0mfilename\u001b[0m\u001b[0;34m,\u001b[0m \u001b[0mmode\u001b[0m\u001b[0;34m)\u001b[0m\u001b[0;34m\u001b[0m\u001b[0;34m\u001b[0m\u001b[0m\n\u001b[0m\u001b[1;32m     97\u001b[0m             \u001b[0mself\u001b[0m\u001b[0;34m.\u001b[0m\u001b[0m_closefp\u001b[0m \u001b[0;34m=\u001b[0m \u001b[0;32mTrue\u001b[0m\u001b[0;34m\u001b[0m\u001b[0;34m\u001b[0m\u001b[0m\n\u001b[1;32m     98\u001b[0m             \u001b[0mself\u001b[0m\u001b[0;34m.\u001b[0m\u001b[0m_mode\u001b[0m \u001b[0;34m=\u001b[0m \u001b[0mmode_code\u001b[0m\u001b[0;34m\u001b[0m\u001b[0;34m\u001b[0m\u001b[0m\n",
            "\u001b[0;31mFileNotFoundError\u001b[0m: [Errno 2] No such file or directory: '/content/drive/MyDrive/Aprendizaje Automático/Datos/disp_st40ns1.txt.bz2'"
          ]
        }
      ],
      "source": [
        "# Aprendizaje\n",
        "disp_df = pd.read_csv(\"/content/drive/MyDrive/Aprendizaje Automático/Datos/disp_st40ns1.txt.bz2\",\n",
        " compression=\"bz2\",\n",
        " index_col=0)\n",
        "\n",
        "# Test\n",
        "comp_df = pd.read_csv(\"/content/drive/MyDrive/Aprendizaje Automático/Datos/comp_st40ns1.txt.bz2\",\n",
        " compression=\"bz2\",\n",
        " index_col=0)"
      ]
    },
    {
      "cell_type": "markdown",
      "source": [
        "Partición de datos en conjuntos de entrenamiento y test"
      ],
      "metadata": {
        "id": "Px_Qygikc9mT"
      }
    },
    {
      "cell_type": "code",
      "source": [
        "train = disp_df.iloc[:5]\n",
        "test = disp_df.iloc[3650:]"
      ],
      "metadata": {
        "id": "Qo6MYoVxa6Jt"
      },
      "execution_count": null,
      "outputs": []
    },
    {
      "cell_type": "markdown",
      "source": [
        "Randomización de las filas en los ficheros de train y test y valores de entrenamiento"
      ],
      "metadata": {
        "id": "UvhkEI4GdiTg"
      }
    },
    {
      "cell_type": "code",
      "source": [
        "# Para la randomizacion de filas se usa la semilla 100429142\n",
        "train_random = train.sample(frac=1, random_state=100429142).reset_index(drop=True)\n",
        "test_random = test.sample(frac=1, random_state=100429142).reset_index(drop=True)\n",
        "\n",
        "# Separa las variables independientes (X) de la variable dependiente (y)\n",
        "X_train = train_random.iloc[:, :-1]\n",
        "Y_train = train_random.iloc[:, -1]"
      ],
      "metadata": {
        "id": "sSMSUlBHdnZQ"
      },
      "execution_count": null,
      "outputs": []
    },
    {
      "cell_type": "markdown",
      "source": [
        "# **MODELOS BÁSICOS**"
      ],
      "metadata": {
        "id": "Qk8bWTYWpJfG"
      }
    },
    {
      "cell_type": "markdown",
      "source": [
        "## **OMISIÓN DE HIPERPARÁMETROS**"
      ],
      "metadata": {
        "id": "F3JFXNoNpXE6"
      }
    },
    {
      "cell_type": "markdown",
      "source": [
        "Modelo *KNN* con omisión de hiperparámetros"
      ],
      "metadata": {
        "id": "2By3LI5Cf5xT"
      }
    },
    {
      "cell_type": "code",
      "source": [
        "# Crear el modelo con los parámetros por defecto\n",
        "knn = KNeighborsRegressor()\n",
        "\n",
        "# Entrena el modelo con el conjunto de entrenamiento\n",
        "knn.fit(X_train, Y_train)\n",
        "\n",
        "# Realiza predicciones en el conjunto de entrenamiento\n",
        "y_pred_train = knn.predict(X_train)\n",
        "\n",
        "# Calcula el MAE en el conjunto de entrenamiento\n",
        "mae_train = mean_absolute_error(Y_train, y_pred_train)\n",
        "\n",
        "# Calcula el RMSE en el conjunto de entrenamiento\n",
        "rmse_train = math.sqrt(mean_squared_error(Y_train, y_pred_train))\n",
        "\n",
        "# Muestra el valor del MAE y RMSE en el conjunto de entrenamiento\n",
        "print('MAE en el conjunto de entrenamiento:', mae_train)\n",
        "print('RMSE en el conjunto de entrenamiento:', rmse_train)"
      ],
      "metadata": {
        "colab": {
          "base_uri": "https://localhost:8080/"
        },
        "id": "fF4BlSOUgf5f",
        "outputId": "e9693f10-0dd1-4142-905e-d94726152c1c"
      },
      "execution_count": null,
      "outputs": [
        {
          "output_type": "stream",
          "name": "stdout",
          "text": [
            "MAE en el conjunto de entrenamiento: 2320715.78630137\n",
            "RMSE en el conjunto de entrenamiento: 3221546.9694545004\n"
          ]
        }
      ]
    },
    {
      "cell_type": "markdown",
      "source": [
        "Modelo Árbol de decisión con omisión de hiperparámetros"
      ],
      "metadata": {
        "id": "hkjllYEtpiNE"
      }
    },
    {
      "cell_type": "code",
      "source": [
        "# Crear el modelo con los parámetros por defecto\n",
        "tree = DecisionTreeRegressor()\n",
        "\n",
        "# Entrenar el modelo\n",
        "tree.fit(X_train, Y_train)\n",
        "\n",
        "# Realizar predicciones en el conjunto de entrenamiento\n",
        "Y_pred = tree.predict(X_train)\n",
        "\n",
        "# Calcular el MAE y el RMSE\n",
        "mae = mean_absolute_error(Y_train, Y_pred)\n",
        "rmse = math.sqrt(mean_squared_error(Y_train, Y_pred))\n",
        "\n",
        "# Imprimir los resultados\n",
        "print(\"MAE: {:.2f}\".format(mae))\n",
        "print(\"RMSE: {:.2f}\".format(rmse))"
      ],
      "metadata": {
        "id": "xynV8KtFpoOX"
      },
      "execution_count": null,
      "outputs": []
    },
    {
      "cell_type": "markdown",
      "source": [
        "Modelo Árbol de regresión lineal con omisión de hiperparámetros"
      ],
      "metadata": {
        "id": "4P_wgW7ErlfS"
      }
    },
    {
      "cell_type": "code",
      "source": [
        "# Crear modelo\n",
        "modelo_rl = LinearRegression()\n",
        "\n",
        "# Entrenar modelo\n",
        "modelo_rl.fit(X_train, Y_train)\n",
        "\n",
        "# Predecir valores para datos de test\n",
        "y_pred = modelo_rl.predict(X_train)\n",
        "\n",
        "mae = mean_absolute_error(Y_train, y_pred)\n",
        "rmse = math.sqrt(mean_squared_error(Y_train, y_pred))\n",
        "\n",
        "print(\"MAE:\", mae)\n",
        "print(\"RMSE:\", rmse)"
      ],
      "metadata": {
        "colab": {
          "base_uri": "https://localhost:8080/"
        },
        "id": "AgomG4NqroTo",
        "outputId": "18785378-58d1-462d-caf7-c28f9a71ec5d"
      },
      "execution_count": null,
      "outputs": [
        {
          "output_type": "stream",
          "name": "stdout",
          "text": [
            "MAE: 2175824.6934650526\n",
            "RMSE: 3137001.6072183605\n"
          ]
        }
      ]
    },
    {
      "cell_type": "markdown",
      "source": [
        "## **OPTIMIZACIÓN DE HIPERPARÁMETROS**"
      ],
      "metadata": {
        "id": "Vx6k8ZDUpw9N"
      }
    },
    {
      "cell_type": "markdown",
      "source": [
        "Modelo KNN con hiperparámetros óptimos"
      ],
      "metadata": {
        "id": "aVsbcOs8j90o"
      }
    },
    {
      "cell_type": "code",
      "source": [
        "knn = KNeighborsRegressor()\n",
        "\n",
        "# Definir cuadrícula de valores de hiperparámetros a explorar\n",
        "param_grid = {'n_neighbors': [1, 3, 5, 7, 9], 'p': [1, 2]}\n",
        "\n",
        "# Definir métricas de evaluación a utilizar\n",
        "scoring = {'MAE': make_scorer(mean_absolute_error), 'RMSE': make_scorer(mean_squared_error, squared=False)}\n",
        "\n",
        "# Realizar búsqueda exhaustiva de los mejores valores de los hiperparámetros\n",
        "grid_search = GridSearchCV(knn, param_grid=param_grid, scoring=scoring, refit='RMSE', cv=5)\n",
        "grid_search.fit(X_train, Y_train)\n",
        "\n",
        "# Imprimir mejores valores de los hiperparámetros y su rendimiento en términos de MAE y RMSE\n",
        "print('Mejores valores de hiperparámetros:', grid_search.best_params_)\n",
        "print('MAE con hiperparámetros optimizados:', grid_search.cv_results_['mean_test_MAE'][grid_search.best_index_])\n",
        "print('RMSE con hiperparámetros optimizados:', grid_search.cv_results_['mean_test_RMSE'][grid_search.best_index_])"
      ],
      "metadata": {
        "id": "21DlKgNDknd2"
      },
      "execution_count": null,
      "outputs": []
    },
    {
      "cell_type": "markdown",
      "source": [
        "Modelo Árbol de Decisión con hiperparámetros óptimos"
      ],
      "metadata": {
        "id": "xZtYEppltAFw"
      }
    },
    {
      "cell_type": "code",
      "source": [
        "# Definir el modelo\n",
        "tree = DecisionTreeRegressor()\n",
        "\n",
        "# Definir los parámetros a probar\n",
        "param_grid = {'max_depth': [3, 5, 7, 9], 'min_samples_leaf': [1, 2, 4, 8]}\n",
        "\n",
        "# Definir la búsqueda por validación cruzada\n",
        "grid_search = GridSearchCV(tree, param_grid, cv=5, scoring='neg_mean_squared_error')\n",
        "\n",
        "# Entrenar el modelo con los datos de entrenamiento\n",
        "grid_search.fit(X_train, Y_train)\n",
        "\n",
        "# Obtener los mejores parámetros y el mejor modelo\n",
        "best_params = grid_search.best_params_\n",
        "best_model = grid_search.best_estimator_\n",
        "\n",
        "# Realizar predicciones en el conjunto de entrenamiento\n",
        "Y_pred = best_model.predict(X_train)\n",
        "\n",
        "# Calcular el MAE y el RMSE\n",
        "mae = mean_absolute_error(Y_train, Y_pred)\n",
        "rmse = math.sqrt(mean_squared_error(Y_train, Y_pred))\n",
        "\n",
        "# Imprimir los resultados\n",
        "print(\"Mejores parámetros: \", best_params)\n",
        "print(\"MAE: {:.2f}\".format(mae))\n",
        "print(\"RMSE: {:.2f}\".format(rmse))"
      ],
      "metadata": {
        "id": "yGp0RoYjtGDK"
      },
      "execution_count": null,
      "outputs": []
    },
    {
      "cell_type": "markdown",
      "source": [
        "Modelo Árbol de Regresión Lineal con hiperparámetros óptimos"
      ],
      "metadata": {
        "id": "CheK11FUtZVw"
      }
    },
    {
      "cell_type": "markdown",
      "source": [
        "# **MODELOS AVANZADOS**"
      ],
      "metadata": {
        "id": "PQIGYzuuv4R8"
      }
    },
    {
      "cell_type": "markdown",
      "source": [
        "## **OMISIÓN DE HIPERPARÁMETROS**"
      ],
      "metadata": {
        "id": "idTqpkS_wB0c"
      }
    },
    {
      "cell_type": "markdown",
      "source": [
        "Modelo SVMs con omisión de hiperparámetros"
      ],
      "metadata": {
        "id": "MjVEuSqLm-OS"
      }
    },
    {
      "cell_type": "code",
      "source": [],
      "metadata": {
        "id": "pkv2jKEUm6ql"
      },
      "execution_count": null,
      "outputs": []
    },
    {
      "cell_type": "markdown",
      "source": [
        "Modelo Random Forests con omisión de hiperparámetros"
      ],
      "metadata": {
        "id": "a0JjQuQ7nYny"
      }
    },
    {
      "cell_type": "markdown",
      "source": [
        "## **OPTIMIZACIÓN DE HIPERPARÁMETROS**"
      ],
      "metadata": {
        "id": "x7SwWqrlwGVb"
      }
    },
    {
      "cell_type": "markdown",
      "source": [
        "Modelo SVMs con hiperparámetros óptimos"
      ],
      "metadata": {
        "id": "Q6Fo4XZbnd8O"
      }
    },
    {
      "cell_type": "code",
      "source": [],
      "metadata": {
        "id": "tE4Ah495niD3"
      },
      "execution_count": null,
      "outputs": []
    },
    {
      "cell_type": "markdown",
      "source": [
        "Modelo Random Forests con hiperparámetros óptimos"
      ],
      "metadata": {
        "id": "wJqZ_6Kgniev"
      }
    }
  ]
}