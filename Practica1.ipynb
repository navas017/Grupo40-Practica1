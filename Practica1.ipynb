{
  "nbformat": 4,
  "nbformat_minor": 0,
  "metadata": {
    "colab": {
      "provenance": [],
      "toc_visible": true,
      "include_colab_link": true
    },
    "kernelspec": {
      "name": "python3",
      "display_name": "Python 3"
    },
    "language_info": {
      "name": "python"
    }
  },
  "cells": [
    {
      "cell_type": "markdown",
      "metadata": {
        "id": "view-in-github",
        "colab_type": "text"
      },
      "source": [
        "<a href=\"https://colab.research.google.com/github/navas017/Grupo40-Practica1/blob/main/Practica1.ipynb\" target=\"_parent\"><img src=\"https://colab.research.google.com/assets/colab-badge.svg\" alt=\"Open In Colab\"/></a>"
      ]
    },
    {
      "cell_type": "code",
      "source": [
        "from google.colab import drive\n",
        "drive.mount('/content/drive')"
      ],
      "metadata": {
        "colab": {
          "base_uri": "https://localhost:8080/"
        },
        "id": "2dFBwHLZP22u",
        "outputId": "c36473df-66ab-4e99-9829-c4dc8d39e5e7"
      },
      "execution_count": null,
      "outputs": [
        {
          "output_type": "stream",
          "name": "stdout",
          "text": [
            "Mounted at /content/drive\n"
          ]
        }
      ]
    },
    {
      "cell_type": "markdown",
      "source": [
        "# **1.INTRODUCCIÓN** "
      ],
      "metadata": {
        "id": "tFYQvXTKdS84"
      }
    },
    {
      "cell_type": "markdown",
      "source": [],
      "metadata": {
        "id": "5yAH3A0jiOpq"
      }
    },
    {
      "cell_type": "markdown",
      "source": [
        "### Importación de librerías "
      ],
      "metadata": {
        "id": "FphFyx04hLj3"
      }
    },
    {
      "cell_type": "code",
      "source": [
        "import pandas as pd\n",
        "import numpy as np\n",
        "import urllib.request\n",
        "import bz2\n",
        "from sklearn.model_selection import GridSearchCV\n",
        "from sklearn.linear_model import LinearRegression\n",
        "from sklearn.neighbors import KNeighborsRegressor\n",
        "from sklearn.tree import DecisionTreeRegressor\n",
        "from sklearn.metrics import make_scorer, mean_absolute_error, mean_squared_error\n",
        "from sklearn import datasets\n",
        "from sklearn.model_selection import train_test_split\n",
        "from sklearn.svm import SVC\n",
        "from sklearn.svm import SVR\n",
        "from sklearn.metrics import accuracy_score\n",
        "from sklearn.ensemble import RandomForestRegressor\n",
        "from sklearn.model_selection import PredefinedSplit\n",
        "from sklearn.model_selection import cross_val_score, cross_val_predict\n",
        "import matplotlib.pyplot as plt\n",
        "import math\n",
        "import time"
      ],
      "metadata": {
        "id": "h51fr2e7dQcT"
      },
      "execution_count": null,
      "outputs": []
    },
    {
      "cell_type": "markdown",
      "source": [
        "# **2.ANÁLISIS EXPLORATORIO DE DATOS (EDA)**"
      ],
      "metadata": {
        "id": "KcqrVZ40zgrV"
      }
    },
    {
      "cell_type": "markdown",
      "source": [],
      "metadata": {
        "id": "7HgR4bVx76yB"
      }
    },
    {
      "cell_type": "markdown",
      "source": [
        "# **3.PROCESAMIENTO DE DATOS**"
      ],
      "metadata": {
        "id": "kQOXHsPMuWMo"
      }
    },
    {
      "cell_type": "markdown",
      "source": [
        "Lectura de archivos"
      ],
      "metadata": {
        "id": "fbcNjel_afJw"
      }
    },
    {
      "cell_type": "code",
      "execution_count": null,
      "metadata": {
        "id": "8SIXNoTtYCuP"
      },
      "outputs": [],
      "source": [
        "# Aprendizaje\n",
        "disp_df = pd.read_csv(\"/content/drive/MyDrive/Aprendizaje Automático/Datos/disp_st40ns1.txt.bz2\",\n",
        " compression=\"bz2\",\n",
        " index_col=0)\n",
        "\n",
        "# Test\n",
        "comp_df = pd.read_csv(\"/content/drive/MyDrive/Aprendizaje Automático/Datos/comp_st40ns1.txt.bz2\",\n",
        " compression=\"bz2\",\n",
        " index_col=0)"
      ]
    },
    {
      "cell_type": "markdown",
      "source": [
        "**Normalización de valores**\n",
        "\n",
        "Se lleva a cabo una normalización de los datos de entrada debido a que al tener cada variable un rango distinto, en algoritmos como el KNN las distancias no son equiparables."
      ],
      "metadata": {
        "id": "8UDg_fM74FZm"
      }
    },
    {
      "cell_type": "code",
      "source": [
        "# Seleccionar todas las columnas a normalizar\n",
        "cols_to_norm_disp = disp_df.columns\n",
        "cols_to_norm_comp = comp_df.columns\n",
        "\n",
        "# Maximos y minimos para cada columna\n",
        "dispMaxCol = disp_df[cols_to_norm_disp].max()\n",
        "dispMinCol = disp_df[cols_to_norm_disp].min()\n",
        "\n",
        "compMaxCol = comp_df[cols_to_norm_comp].max()\n",
        "compMinCol = comp_df[cols_to_norm_comp].min()\n",
        "\n",
        "# Escalar los valores de las columnas en el rango [0, 1]\n",
        "disp_norm = (disp_df[cols_to_norm_disp] - dispMinCol) / (dispMaxCol - dispMinCol)\n",
        "comp_norm = (comp_df[cols_to_norm_comp] - compMinCol) / (compMaxCol - compMinCol)\n",
        "\n",
        "# Desnormalizar valor\n",
        "disp_desnorm = disp_norm[cols_to_norm_disp] * (dispMaxCol - dispMinCol) + dispMinCol\n",
        "comp_desnorm = comp_norm[cols_to_norm_comp] * (compMaxCol - compMinCol) + compMinCol"
      ],
      "metadata": {
        "id": "P6fgsGYa4G_1"
      },
      "execution_count": null,
      "outputs": []
    },
    {
      "cell_type": "markdown",
      "source": [
        "**Creación de conjuntos**\n",
        "\n",
        "Los datos se dividen en dos conjuntos, el de entrenamiento, con el que se entrenará el modelo y el de test, con el que se evaluará el modelo.\n",
        "\n",
        "El conjunto de entrenamiento a su vez se divide en dos, el conjunto de entrenamiento usado para construir modelos con distintos valores de hiperparámetros y el de validación, el cúal se usa para evaluar estos modelos generados.  "
      ],
      "metadata": {
        "id": "Px_Qygikc9mT"
      }
    },
    {
      "cell_type": "code",
      "source": [
        "# Conjunto de datos no normalizados\n",
        "train = disp_df.iloc[:3650]\n",
        "test = disp_df.iloc[3650:]\n",
        "\n",
        "# Tamaños de los conjuntos de datos\n",
        "#n_train = train.shape[0]\n",
        "#n_test = test.shape[0]\n",
        "n_train = 2555\n",
        "n_valid = 1095\n",
        "\n",
        "# Conjunto de datos normalizados\n",
        "train_norm = disp_norm.iloc[:3650]\n",
        "test_norm = disp_norm.iloc[3650:]\n",
        "\n",
        "# Conjunto de datos normalizados partidos\n",
        "train_norm_train = disp_norm.iloc[:2555]\n",
        "train_norm_val = disp_norm.iloc[2555:3650] "
      ],
      "metadata": {
        "id": "Qo6MYoVxa6Jt"
      },
      "execution_count": null,
      "outputs": []
    },
    {
      "cell_type": "markdown",
      "source": [
        "Predefined Split para optimización de parámetros"
      ],
      "metadata": {
        "id": "guMTvlSPkC07"
      }
    },
    {
      "cell_type": "code",
      "source": [
        "selector = [-1] * n_train + [0] * n_valid\n",
        "cv = PredefinedSplit(selector)\n",
        "split = cv.get_n_splits(disp_df)"
      ],
      "metadata": {
        "id": "E2GJ1U9akHEB"
      },
      "execution_count": null,
      "outputs": []
    },
    {
      "cell_type": "markdown",
      "source": [
        "Randomización de las filas en los ficheros de train y test y valores de entrenamiento"
      ],
      "metadata": {
        "id": "UvhkEI4GdiTg"
      }
    },
    {
      "cell_type": "code",
      "source": [
        "# Para la randomizacion de filas se usa la semilla 100429142\n",
        "train_random = train.sample(frac=1, random_state=100429142).reset_index(drop=True)\n",
        "test_random = test.sample(frac=1, random_state=100429142).reset_index(drop=True)\n",
        "\n",
        "# Randomizacion de conjuntos normalizados\n",
        "train_random_norm = train_norm.sample(frac=1, random_state=100429142).reset_index(drop=True)\n",
        "test_random_norm = test_norm.sample(frac=1, random_state=100429142).reset_index(drop=True)\n",
        "\n",
        "# Separa las variables independientes (X) de la variable dependiente (y)\n",
        "X_train = train_random.iloc[:, :-1]\n",
        "Y_train = train_random.iloc[:, -1]\n",
        "\n",
        "# Variables de conjunto de datos normalizado\n",
        "X_train_norm = train_random_norm.iloc[:, :-1]\n",
        "Y_train_norm = train_random_norm.iloc[:, -1]\n",
        "\n",
        "# Variables de conjunto de datos normalizado partidos\n",
        "X_train_train_norm = train_norm_train.iloc[:, :-1]\n",
        "X_train_val_norm = train_norm_val.iloc[:, :-1]\n",
        "Y_train_train_norm = train_norm_train.iloc[:, -1]\n",
        "Y_train_val_norm = train_norm_val.iloc[:, -1]"
      ],
      "metadata": {
        "id": "sSMSUlBHdnZQ"
      },
      "execution_count": null,
      "outputs": []
    },
    {
      "cell_type": "markdown",
      "source": [
        "# **4.MODELOS BÁSICOS**"
      ],
      "metadata": {
        "id": "Qk8bWTYWpJfG"
      }
    },
    {
      "cell_type": "markdown",
      "source": [
        "## **4.1.OMISIÓN DE HIPERPARÁMETROS**"
      ],
      "metadata": {
        "id": "F3JFXNoNpXE6"
      }
    },
    {
      "cell_type": "markdown",
      "source": [
        "### Modelo KNN"
      ],
      "metadata": {
        "id": "2By3LI5Cf5xT"
      }
    },
    {
      "cell_type": "code",
      "source": [
        "# USA LOS VALORES NORMALIZADOS\n",
        "# EXPLICAR PORQUE SE NORMALIZA CON EL KNN\n",
        "# TIENE 5 NEIGHBORS POR DEFECTO\n",
        "\n",
        "# Crear el modelo con los parámetros por defecto\n",
        "knn = KNeighborsRegressor()\n",
        "\n",
        "# Iniciar la medición del tiempo\n",
        "start_time = time.time()\n",
        "\n",
        "# Ajustar el modelo con train_norm_train\n",
        "knn_fit_train = knn.fit(X_train_train_norm, Y_train_train_norm)\n",
        "\n",
        "# Finalizar la medición del tiempo y calculo del tiempo\n",
        "end_time = time.time()\n",
        "knn_training_time = round((end_time - start_time) * 1000, 6)\n",
        "\n",
        "# Calcular las predicciones y los errores de validación\n",
        "y_pred_val = knn_fit_train.predict(X_train_val_norm)\n",
        "knn_mae_val = mean_absolute_error(Y_train_val_norm, y_pred_val)\n",
        "knn_rmse_val = np.sqrt(mean_squared_error(Y_train_val_norm, y_pred_val))\n",
        "\n",
        "# Calcular las predicciones y los errores de entrenamiento\n",
        "y_pred_train = knn_fit_train.predict(X_train_train_norm)\n",
        "knn_mae_train = mean_absolute_error(Y_train_train_norm, y_pred_train)\n",
        "knn_rmse_train = np.sqrt(mean_squared_error(Y_train_train_norm, y_pred_train))"
      ],
      "metadata": {
        "id": "fF4BlSOUgf5f"
      },
      "execution_count": null,
      "outputs": []
    },
    {
      "cell_type": "markdown",
      "source": [
        "### Modelo Árbol de decisión "
      ],
      "metadata": {
        "id": "hkjllYEtpiNE"
      }
    },
    {
      "cell_type": "code",
      "source": [
        "# EXPLICAR EL SOBREAPRENDIZAJE SI NO SE LIMITA LA MAX_DEPTH\n",
        "# ACABA CON 2^N HOJAS (CADA HOJA ES UN VALOR DE SALIDA)\n",
        "\n",
        "# Crear el modelo con los parámetros por defecto\n",
        "tree = DecisionTreeRegressor()\n",
        "\n",
        "# Iniciar la medición del tiempo\n",
        "start_time = time.time()\n",
        "\n",
        "# Entrenar el modelo\n",
        "#tree.fit(X_train, Y_train)\n",
        "\n",
        "tree_fit = tree.fit(X_train_train_norm, Y_train_train_norm)\n",
        "\n",
        "# Finalizar la medición del tiempo y calculo del tiempo\n",
        "end_time = time.time()\n",
        "tree_training_time = round((end_time - start_time) * 1000, 6)\n",
        "\n",
        "# Calcular las predicciones y los errores de validación\n",
        "y_pred_val = tree_fit.predict(X_train_val_norm)\n",
        "tree_mae_val = mean_absolute_error(Y_train_val_norm, y_pred_val)\n",
        "tree_rmse_val = np.sqrt(mean_squared_error(Y_train_val_norm, y_pred_val))\n",
        "\n",
        "# Calcular las predicciones y los errores de entrenamiento\n",
        "y_pred_train = tree_fit.predict(X_train_train_norm)\n",
        "tree_mae_train = mean_absolute_error(Y_train_train_norm, y_pred_train)\n",
        "tree_rmse_train = np.sqrt(mean_squared_error(Y_train_train_norm, y_pred_train))"
      ],
      "metadata": {
        "id": "xynV8KtFpoOX"
      },
      "execution_count": null,
      "outputs": []
    },
    {
      "cell_type": "markdown",
      "source": [
        "### Modelo Árbol de regresión lineal "
      ],
      "metadata": {
        "id": "4P_wgW7ErlfS"
      }
    },
    {
      "cell_type": "code",
      "source": [
        "# Crear modelo\n",
        "modelo_rl = LinearRegression()\n",
        "\n",
        "# Iniciar la medición del tiempo\n",
        "start_time = time.time()\n",
        "\n",
        "# Entrenar modelo\n",
        "reg_fit = modelo_rl.fit(X_train_train_norm, Y_train_train_norm)\n",
        "\n",
        "# Finalizar la medición del tiempo y calculo del tiempo\n",
        "end_time = time.time()\n",
        "reg_training_time = round((end_time - start_time) * 1000, 6)\n",
        "\n",
        "# Calcular las predicciones y los errores de validación\n",
        "y_pred_val = reg_fit.predict(X_train_val_norm)\n",
        "reg_mae_val = mean_absolute_error(Y_train_val_norm, y_pred_val)\n",
        "reg_rmse_val = np.sqrt(mean_squared_error(Y_train_val_norm, y_pred_val))\n",
        "\n",
        "# Calcular las predicciones y los errores de entrenamiento\n",
        "y_pred_train = reg_fit.predict(X_train_train_norm)\n",
        "reg_mae_train = mean_absolute_error(Y_train_train_norm, y_pred_train)\n",
        "reg_rmse_train = np.sqrt(mean_squared_error(Y_train_train_norm, y_pred_train))"
      ],
      "metadata": {
        "id": "AgomG4NqroTo"
      },
      "execution_count": null,
      "outputs": []
    },
    {
      "cell_type": "markdown",
      "source": [
        "## **4.2.COMPARATIVA OMISIÓN DE HIPERPARÁMETROS**"
      ],
      "metadata": {
        "id": "rGW8onIkqXsQ"
      }
    },
    {
      "cell_type": "markdown",
      "source": [
        "En la tabla se recogen los distintos resultados obtenidos del MAE de entrenamiento y validación, el RMSE de entrenamiento y validación y el tiempo de entrenamiento de cada uno de los modelos básicos con omisión de hiperparámetros.\n",
        "\n",
        "Estos datos serán analizados de manera gráfica a continuación. \n"
      ],
      "metadata": {
        "id": "BctNq2I_skKE"
      }
    },
    {
      "cell_type": "code",
      "source": [
        "# Crear un diccionario con los valores de MAE, RMSE y tiempo de ejecución de cada modelo\n",
        "data = {'KNN': [knn_mae_train, knn_mae_val, knn_rmse_train, knn_rmse_val, knn_training_time],\n",
        "        'Árbol de decisión': [tree_mae_train, tree_mae_val, tree_rmse_train, tree_rmse_val, tree_training_time],\n",
        "        'Regresión lineal': [reg_mae_train, reg_mae_val, reg_rmse_train, reg_rmse_val, reg_training_time]}\n",
        "\n",
        "# Crear un DataFrame de pandas con los valores del diccionario y especificar las etiquetas de filas y columnas\n",
        "df = pd.DataFrame(data, index=['MAE train', 'MAE val', 'RMSE train', 'RMSE val', 'Tiempo de entrenamiento (ms)'])\n",
        "\n",
        "# Imprimir el DataFrame\n",
        "df"
      ],
      "metadata": {
        "id": "TKaf1lnHrVJn",
        "colab": {
          "base_uri": "https://localhost:8080/",
          "height": 206
        },
        "outputId": "31eafc39-cff6-4f4c-aa96-0f51d4678a20"
      },
      "execution_count": null,
      "outputs": [
        {
          "output_type": "execute_result",
          "data": {
            "text/plain": [
              "                                   KNN  Árbol de decisión  Regresión lineal\n",
              "MAE train                     0.063843           0.000000          0.068970\n",
              "MAE val                       0.080653           0.100656          0.072994\n",
              "RMSE train                    0.094861           0.000000          0.099724\n",
              "RMSE val                      0.122158           0.152324          0.108323\n",
              "Tiempo de entrenamiento (ms)  9.535313         210.763693         54.789543"
            ],
            "text/html": [
              "\n",
              "  <div id=\"df-47a8561d-ba10-4b89-b714-8f0e6e633836\">\n",
              "    <div class=\"colab-df-container\">\n",
              "      <div>\n",
              "<style scoped>\n",
              "    .dataframe tbody tr th:only-of-type {\n",
              "        vertical-align: middle;\n",
              "    }\n",
              "\n",
              "    .dataframe tbody tr th {\n",
              "        vertical-align: top;\n",
              "    }\n",
              "\n",
              "    .dataframe thead th {\n",
              "        text-align: right;\n",
              "    }\n",
              "</style>\n",
              "<table border=\"1\" class=\"dataframe\">\n",
              "  <thead>\n",
              "    <tr style=\"text-align: right;\">\n",
              "      <th></th>\n",
              "      <th>KNN</th>\n",
              "      <th>Árbol de decisión</th>\n",
              "      <th>Regresión lineal</th>\n",
              "    </tr>\n",
              "  </thead>\n",
              "  <tbody>\n",
              "    <tr>\n",
              "      <th>MAE train</th>\n",
              "      <td>0.063843</td>\n",
              "      <td>0.000000</td>\n",
              "      <td>0.068970</td>\n",
              "    </tr>\n",
              "    <tr>\n",
              "      <th>MAE val</th>\n",
              "      <td>0.080653</td>\n",
              "      <td>0.100656</td>\n",
              "      <td>0.072994</td>\n",
              "    </tr>\n",
              "    <tr>\n",
              "      <th>RMSE train</th>\n",
              "      <td>0.094861</td>\n",
              "      <td>0.000000</td>\n",
              "      <td>0.099724</td>\n",
              "    </tr>\n",
              "    <tr>\n",
              "      <th>RMSE val</th>\n",
              "      <td>0.122158</td>\n",
              "      <td>0.152324</td>\n",
              "      <td>0.108323</td>\n",
              "    </tr>\n",
              "    <tr>\n",
              "      <th>Tiempo de entrenamiento (ms)</th>\n",
              "      <td>9.535313</td>\n",
              "      <td>210.763693</td>\n",
              "      <td>54.789543</td>\n",
              "    </tr>\n",
              "  </tbody>\n",
              "</table>\n",
              "</div>\n",
              "      <button class=\"colab-df-convert\" onclick=\"convertToInteractive('df-47a8561d-ba10-4b89-b714-8f0e6e633836')\"\n",
              "              title=\"Convert this dataframe to an interactive table.\"\n",
              "              style=\"display:none;\">\n",
              "        \n",
              "  <svg xmlns=\"http://www.w3.org/2000/svg\" height=\"24px\"viewBox=\"0 0 24 24\"\n",
              "       width=\"24px\">\n",
              "    <path d=\"M0 0h24v24H0V0z\" fill=\"none\"/>\n",
              "    <path d=\"M18.56 5.44l.94 2.06.94-2.06 2.06-.94-2.06-.94-.94-2.06-.94 2.06-2.06.94zm-11 1L8.5 8.5l.94-2.06 2.06-.94-2.06-.94L8.5 2.5l-.94 2.06-2.06.94zm10 10l.94 2.06.94-2.06 2.06-.94-2.06-.94-.94-2.06-.94 2.06-2.06.94z\"/><path d=\"M17.41 7.96l-1.37-1.37c-.4-.4-.92-.59-1.43-.59-.52 0-1.04.2-1.43.59L10.3 9.45l-7.72 7.72c-.78.78-.78 2.05 0 2.83L4 21.41c.39.39.9.59 1.41.59.51 0 1.02-.2 1.41-.59l7.78-7.78 2.81-2.81c.8-.78.8-2.07 0-2.86zM5.41 20L4 18.59l7.72-7.72 1.47 1.35L5.41 20z\"/>\n",
              "  </svg>\n",
              "      </button>\n",
              "      \n",
              "  <style>\n",
              "    .colab-df-container {\n",
              "      display:flex;\n",
              "      flex-wrap:wrap;\n",
              "      gap: 12px;\n",
              "    }\n",
              "\n",
              "    .colab-df-convert {\n",
              "      background-color: #E8F0FE;\n",
              "      border: none;\n",
              "      border-radius: 50%;\n",
              "      cursor: pointer;\n",
              "      display: none;\n",
              "      fill: #1967D2;\n",
              "      height: 32px;\n",
              "      padding: 0 0 0 0;\n",
              "      width: 32px;\n",
              "    }\n",
              "\n",
              "    .colab-df-convert:hover {\n",
              "      background-color: #E2EBFA;\n",
              "      box-shadow: 0px 1px 2px rgba(60, 64, 67, 0.3), 0px 1px 3px 1px rgba(60, 64, 67, 0.15);\n",
              "      fill: #174EA6;\n",
              "    }\n",
              "\n",
              "    [theme=dark] .colab-df-convert {\n",
              "      background-color: #3B4455;\n",
              "      fill: #D2E3FC;\n",
              "    }\n",
              "\n",
              "    [theme=dark] .colab-df-convert:hover {\n",
              "      background-color: #434B5C;\n",
              "      box-shadow: 0px 1px 3px 1px rgba(0, 0, 0, 0.15);\n",
              "      filter: drop-shadow(0px 1px 2px rgba(0, 0, 0, 0.3));\n",
              "      fill: #FFFFFF;\n",
              "    }\n",
              "  </style>\n",
              "\n",
              "      <script>\n",
              "        const buttonEl =\n",
              "          document.querySelector('#df-47a8561d-ba10-4b89-b714-8f0e6e633836 button.colab-df-convert');\n",
              "        buttonEl.style.display =\n",
              "          google.colab.kernel.accessAllowed ? 'block' : 'none';\n",
              "\n",
              "        async function convertToInteractive(key) {\n",
              "          const element = document.querySelector('#df-47a8561d-ba10-4b89-b714-8f0e6e633836');\n",
              "          const dataTable =\n",
              "            await google.colab.kernel.invokeFunction('convertToInteractive',\n",
              "                                                     [key], {});\n",
              "          if (!dataTable) return;\n",
              "\n",
              "          const docLinkHtml = 'Like what you see? Visit the ' +\n",
              "            '<a target=\"_blank\" href=https://colab.research.google.com/notebooks/data_table.ipynb>data table notebook</a>'\n",
              "            + ' to learn more about interactive tables.';\n",
              "          element.innerHTML = '';\n",
              "          dataTable['output_type'] = 'display_data';\n",
              "          await google.colab.output.renderOutput(dataTable, element);\n",
              "          const docLink = document.createElement('div');\n",
              "          docLink.innerHTML = docLinkHtml;\n",
              "          element.appendChild(docLink);\n",
              "        }\n",
              "      </script>\n",
              "    </div>\n",
              "  </div>\n",
              "  "
            ]
          },
          "metadata": {},
          "execution_count": 61
        }
      ]
    },
    {
      "cell_type": "markdown",
      "source": [
        "**Gráfica comparativa del MAE** (train y val)\n"
      ],
      "metadata": {
        "id": "4kSDcnCHtD0u"
      }
    },
    {
      "cell_type": "code",
      "source": [
        "import matplotlib.pyplot as plt\n",
        "import numpy as np\n",
        "\n",
        "# Crear los datos para los modelos\n",
        "modelos = ['KNN', 'Árbol', 'Regresión']\n",
        "mae_entrenamiento = [knn_mae_train, tree_mae_train, reg_mae_train]\n",
        "mae_validacion = [knn_mae_val, tree_mae_val, reg_mae_val]\n",
        "\n",
        "# Configurar la figura\n",
        "fig, ax = plt.subplots(figsize=(8, 6))\n",
        "ind = np.arange(len(modelos))\n",
        "ancho = 0.35\n",
        "\n",
        "# Graficar las barras\n",
        "rects1 = ax.bar(ind - ancho/2, mae_entrenamiento, ancho, label='Entrenamiento')\n",
        "rects2 = ax.bar(ind + ancho/2, mae_validacion, ancho, label='Validación')\n",
        "\n",
        "# Configurar los ejes y la leyenda\n",
        "ax.set_ylabel('MAE')\n",
        "ax.set_title('MAE por modelo y conjunto de datos')\n",
        "ax.set_xticks(ind)\n",
        "ax.set_xticklabels(modelos)\n",
        "ax.legend()\n",
        "\n",
        "# Agregar las etiquetas a las barras\n",
        "def autolabel(rects):\n",
        "    for rect in rects:\n",
        "        height = rect.get_height()\n",
        "        ax.annotate('{}'.format(round(height, 2)),\n",
        "                    xy=(rect.get_x() + rect.get_width() / 2, height),\n",
        "                    xytext=(0, 3),\n",
        "                    textcoords=\"offset points\",\n",
        "                    ha='center', va='bottom')\n",
        "\n",
        "autolabel(rects1)\n",
        "autolabel(rects2)\n",
        "\n",
        "# Mostrar la gráfica\n",
        "plt.show()"
      ],
      "metadata": {
        "colab": {
          "base_uri": "https://localhost:8080/",
          "height": 391
        },
        "id": "aKoJ0ZNllDME",
        "outputId": "88280d24-7ea2-4b5a-e4c4-79fea1a06a6b"
      },
      "execution_count": null,
      "outputs": [
        {
          "output_type": "display_data",
          "data": {
            "text/plain": [
              "<Figure size 576x432 with 1 Axes>"
            ],
            "image/png": "[encoded data removed]"
          },
          "metadata": {
            "needs_background": "light"
          }
        }
      ]
    },
    {
      "cell_type": "markdown",
      "source": [
        "Como se puede observar a simple vista, el error más pequeño del MAE en train es el del árbol de decisión, este es de 0, lo cual significaría que el modelo se está ajustando perfectamente a las instancias de entrenamiento. Esto se puede deber a un sobreajuste de los datos, debido a que en un árbol de decisión sin una limitación en su profundidad, este se puede expandir hasta que en cada nodo hoja se pueda clasificar cada una de las instancias obteniéndose ese error de 0. Gracias a la obtención del MAE en validación se puede observar como aunque haya entrenado de manera perfecta, no predice correctamente, confirmándose la hipótesis del sobreajuste.\n",
        "\n",
        "Fuera de este sobreajuste, el KNN obtiene el mejor MAE en train aunque sus predicciones no son del todo precisas. El modelo más equilibrado entre el MAE de entrenamiento y de validación es el de la regresión lineal."
      ],
      "metadata": {
        "id": "k078RG_1WBXE"
      }
    },
    {
      "cell_type": "markdown",
      "source": [
        "**Gráfica comparativa del RMSE** (train y val)"
      ],
      "metadata": {
        "id": "vdqMP8hHukW6"
      }
    },
    {
      "cell_type": "code",
      "source": [
        "# Crear los datos para los modelos\n",
        "modelos = ['KNN', 'Árbol', 'Regresión']\n",
        "mae_entrenamiento = [knn_rmse_train, tree_rmse_train, reg_rmse_train]\n",
        "mae_validacion = [knn_rmse_val, tree_rmse_val, reg_rmse_val]\n",
        "\n",
        "# Configurar la figura\n",
        "fig, ax = plt.subplots(figsize=(8, 6))\n",
        "ind = np.arange(len(modelos))\n",
        "ancho = 0.35\n",
        "\n",
        "# Graficar las barras\n",
        "rects1 = ax.bar(ind - ancho/2, mae_entrenamiento, ancho, label='Entrenamiento')\n",
        "rects2 = ax.bar(ind + ancho/2, mae_validacion, ancho, label='Validación')\n",
        "\n",
        "# Configurar los ejes y la leyenda\n",
        "ax.set_ylabel('RMSE')\n",
        "ax.set_title('RMSE por modelo y conjunto de datos')\n",
        "ax.set_xticks(ind)\n",
        "ax.set_xticklabels(modelos)\n",
        "ax.legend()\n",
        "\n",
        "# Agregar las etiquetas a las barras\n",
        "def autolabel(rects):\n",
        "    for rect in rects:\n",
        "        height = rect.get_height()\n",
        "        ax.annotate('{}'.format(round(height, 2)),\n",
        "                    xy=(rect.get_x() + rect.get_width() / 2, height),\n",
        "                    xytext=(0, 3),\n",
        "                    textcoords=\"offset points\",\n",
        "                    ha='center', va='bottom')\n",
        "\n",
        "autolabel(rects1)\n",
        "autolabel(rects2)\n",
        "\n",
        "# Mostrar la gráfica\n",
        "plt.show()"
      ],
      "metadata": {
        "colab": {
          "base_uri": "https://localhost:8080/",
          "height": 391
        },
        "id": "DGfnuVDSmda1",
        "outputId": "77dc5f03-42e9-4930-9256-68f484d36138"
      },
      "execution_count": null,
      "outputs": [
        {
          "output_type": "display_data",
          "data": {
            "text/plain": [
              "<Figure size 576x432 with 1 Axes>"
            ],
            "image/png": "[encoded data removed]"
          },
          "metadata": {
            "needs_background": "light"
          }
        }
      ]
    },
    {
      "cell_type": "markdown",
      "source": [
        "Los valores obtenidos para el RMSE son bastante similares a los obtenidos con el cálculo del MAE, teniéndo las gráficas formas prácticamente iguales."
      ],
      "metadata": {
        "id": "Lu-LTl6zadPd"
      }
    },
    {
      "cell_type": "markdown",
      "source": [
        "**Gráfica comparativa del Tiempo de entrenamiento**"
      ],
      "metadata": {
        "id": "qBCN0wPJun4u"
      }
    },
    {
      "cell_type": "code",
      "source": [
        "# Obtener los valores de tiempo de entrenamiento para cada modelo\n",
        "time_values = df.loc['Tiempo de entrenamiento (ms)']\n",
        "\n",
        "# Crear un gráfico de barras\n",
        "fig, ax = plt.subplots()\n",
        "ax.bar(time_values.index, time_values.values)\n",
        "\n",
        "# Personalizar el gráfico\n",
        "ax.set_title('Tiempo de entrenamiento para los tres modelos')\n",
        "ax.set_xlabel('Modelo')\n",
        "ax.set_ylabel('Tiempo de entrenamiento (ms)')\n",
        "plt.show()"
      ],
      "metadata": {
        "id": "AVTXWSPQtF_Y",
        "colab": {
          "base_uri": "https://localhost:8080/",
          "height": 296
        },
        "outputId": "0b0efd65-6741-4d49-db9e-e85aa7beea5c"
      },
      "execution_count": null,
      "outputs": [
        {
          "output_type": "display_data",
          "data": {
            "text/plain": [
              "<Figure size 432x288 with 1 Axes>"
            ],
            "image/png": "[encoded data removed]"
          },
          "metadata": {
            "needs_background": "light"
          }
        }
      ]
    },
    {
      "cell_type": "markdown",
      "source": [
        "Como es observable a simple vista, el modelo que más tarda es el árbol de decisión, esto puede deberse a que el modelo desarrolla una complejidad muy alta debido a la gran profundidad del algoritmo.\n",
        "\n",
        "El modelo que arroja un menjor resultado en cuanto al tiempo es el del KNN, el cuál mantiene una amplia ventaja frente a la regresión lineal."
      ],
      "metadata": {
        "id": "CZoejo7Ta2YJ"
      }
    },
    {
      "cell_type": "markdown",
      "source": [
        "## **4.3.OPTIMIZACIÓN DE HIPERPARÁMETROS**\n",
        "\n",
        "\n"
      ],
      "metadata": {
        "id": "Vx6k8ZDUpw9N"
      }
    },
    {
      "cell_type": "markdown",
      "source": [
        "### Modelo KNN"
      ],
      "metadata": {
        "id": "aVsbcOs8j90o"
      }
    },
    {
      "cell_type": "code",
      "source": [
        "knn = KNeighborsRegressor()\n",
        "\n",
        "# Definir cuadrícula de valores de hiperparámetros a explorar\n",
        "param_grid = {'n_neighbors': [7, 8, 9, 10, 11, 12, 15], 'p': [1, 2]}\n",
        "\n",
        "# Definir métricas de evaluación a utilizar\n",
        "#scoring = { 'MAE': make_scorer(mean_absolute_error, greater_is_better=False) }\n",
        "scoring = {'MAE': make_scorer(mean_absolute_error, greater_is_better=False), 'RMSE': make_scorer(mean_squared_error, squared=False, greater_is_better=False)}\n",
        "\n",
        "# Iniciar la medición del tiempo\n",
        "start_time = time.time()\n",
        "\n",
        "# Realizar búsqueda exhaustiva de los mejores valores de los hiperparámetros\n",
        "grid_search = GridSearchCV(knn, param_grid=param_grid, scoring=scoring, refit='MAE', cv=cv)\n",
        "knn_opt_fit = grid_search.fit(X_train_norm, Y_train_norm)\n",
        "\n",
        "# Finalizar la medición del tiempo y calculo del tiempo\n",
        "end_time = time.time()\n",
        "reg_training_time = round((end_time - start_time) * 1000, 6)\n",
        "\n",
        "# Imprimir mejores valores de los hiperparámetros y su rendimiento en términos de MAE y RMSE\n",
        "print('Mejores valores de hiperparámetros:', grid_search.best_params_)\n",
        "print('MAE con hiperparámetros optimizados:', grid_search.cv_results_['mean_test_MAE'][grid_search.best_index_] * -1)\n",
        "print('RMSE con hiperparámetros optimizados:', grid_search.cv_results_['mean_test_RMSE'][grid_search.best_index_] * -1)\n",
        "\n",
        "knn_opt_mae = grid_search.cv_results_['mean_test_MAE'][grid_search.best_index_] * -1\n",
        "knn_opt_rmse = grid_search.cv_results_['mean_test_RMSE'][grid_search.best_index_] * -1"
      ],
      "metadata": {
        "id": "21DlKgNDknd2",
        "colab": {
          "base_uri": "https://localhost:8080/"
        },
        "outputId": "5a50bc3e-781c-4be3-9442-ef1d97ec52cd"
      },
      "execution_count": null,
      "outputs": [
        {
          "output_type": "stream",
          "name": "stdout",
          "text": [
            "Mejores valores de hiperparámetros: {'n_neighbors': 10, 'p': 1}\n",
            "MAE con hiperparámetros optimizados: 0.07354705493253016\n",
            "RMSE con hiperparámetros optimizados: 0.10754745773754364\n"
          ]
        }
      ]
    },
    {
      "cell_type": "markdown",
      "source": [
        "### Modelo Árbol de Decisión"
      ],
      "metadata": {
        "id": "xZtYEppltAFw"
      }
    },
    {
      "cell_type": "code",
      "source": [
        "# Definir el modelo\n",
        "tree = DecisionTreeRegressor()\n",
        "\n",
        "# Definir los parámetros a probar\n",
        "param_grid = {'max_depth': [3, 5, 7, 9], 'min_samples_leaf': [1, 2, 4, 8]}\n",
        "\n",
        "scoring = {'MAE': make_scorer(mean_absolute_error, greater_is_better=False), 'RMSE': make_scorer(mean_squared_error, squared=False, greater_is_better=False)}\n",
        "\n",
        "# Definir la búsqueda por validación cruzada\n",
        "grid_search = GridSearchCV(tree, param_grid, cv=cv, refit='MAE', scoring=scoring) #'neg_mean_squared_error'\n",
        "\n",
        "# Entrenar el modelo con los datos de entrenamiento\n",
        "grid_search.fit(X_train_norm, Y_train_norm)\n",
        "\n",
        "# Obtener los mejores parámetros y el mejor modelo\n",
        "best_params = grid_search.best_params_\n",
        "best_model = grid_search.best_estimator_\n",
        "\n",
        "# Realizar predicciones en el conjunto de entrenamiento\n",
        "Y_pred = best_model.predict(X_train_norm)\n",
        "\n",
        "# Calcular el MAE y el RMSE\n",
        "mae = mean_absolute_error(Y_train_norm, Y_pred)\n",
        "rmse = math.sqrt(mean_squared_error(Y_train_norm, Y_pred))\n",
        "\n",
        "# Imprimir los resultados\n",
        "print(\"Mejores parámetros: \", best_params)\n",
        "print(\"MAE: \", mae)\n",
        "print(\"RMSE: \", rmse)"
      ],
      "metadata": {
        "id": "yGp0RoYjtGDK",
        "colab": {
          "base_uri": "https://localhost:8080/"
        },
        "outputId": "79698261-65af-4c26-ce67-a8280abd77c9"
      },
      "execution_count": null,
      "outputs": [
        {
          "output_type": "stream",
          "name": "stdout",
          "text": [
            "Mejores parámetros:  {'max_depth': 7, 'min_samples_leaf': 4}\n",
            "MAE:  0.06413775940642182\n",
            "RMSE:  0.09279913449298238\n"
          ]
        }
      ]
    },
    {
      "cell_type": "markdown",
      "source": [
        "### Modelo Árbol de Regresión Lineal"
      ],
      "metadata": {
        "id": "CheK11FUtZVw"
      }
    },
    {
      "cell_type": "markdown",
      "source": [
        "## **4.4.COMPARATIVA OPTIMIZACIÓN DE HIPERPARÁMETROS**"
      ],
      "metadata": {
        "id": "5hFlo8imfJFu"
      }
    },
    {
      "cell_type": "markdown",
      "source": [
        "## **4.5.COMPARATIVA MODELOS BÁSICOS**"
      ],
      "metadata": {
        "id": "9MJMt6eBfhKV"
      }
    },
    {
      "cell_type": "markdown",
      "source": [
        "HACER LASSO Y RIDGE"
      ],
      "metadata": {
        "id": "LlMveSl-ZTcB"
      }
    },
    {
      "cell_type": "markdown",
      "source": [
        "# **5.MODELOS AVANZADOS**"
      ],
      "metadata": {
        "id": "PQIGYzuuv4R8"
      }
    },
    {
      "cell_type": "markdown",
      "source": [
        "## **5.1.OMISIÓN DE HIPERPARÁMETROS**"
      ],
      "metadata": {
        "id": "idTqpkS_wB0c"
      }
    },
    {
      "cell_type": "markdown",
      "source": [
        "### Modelo SVMs "
      ],
      "metadata": {
        "id": "MjVEuSqLm-OS"
      }
    },
    {
      "cell_type": "code",
      "source": [
        "# Crear un clasificador SVM sin ajuste de hiperparámetros\n",
        "clf = SVC(kernel='linear', C=1, random_state=0)\n",
        "\n",
        "# Entrenar el clasificador en los datos de entrenamiento\n",
        "clf.fit(X_train, Y_train)\n",
        "\n",
        "# Hacer predicciones en los datos de entrenamiento\n",
        "y_pred_train = clf.predict(X_train)\n",
        "\n",
        "# Calcular el MAE y RMSE en los datos de entrenamiento\n",
        "mae_train = mean_absolute_error(Y_train, y_pred_train)\n",
        "rmse_train = mean_squared_error(Y_train, y_pred_train, squared=False)\n",
        "\n",
        "# Imprimir los resultados\n",
        "print(\"MAE en los datos de entrenamiento:\", mae_train)\n",
        "print(\"RMSE en los datos de entrenamiento:\", rmse_train)"
      ],
      "metadata": {
        "id": "pkv2jKEUm6ql"
      },
      "execution_count": null,
      "outputs": []
    },
    {
      "cell_type": "markdown",
      "source": [
        "### Modelo Random Forests "
      ],
      "metadata": {
        "id": "a0JjQuQ7nYny"
      }
    },
    {
      "cell_type": "code",
      "source": [
        "# Crear modelo con los parámetros por defecto\n",
        "rf = RandomForestRegressor()\n",
        "\n",
        "# Entrenar el modelo\n",
        "rf.fit(X_train, Y_train)\n",
        "\n",
        "# Realizar predicciones en el conjunto de entrenamiento\n",
        "Y_pred = rf.predict(X_train)\n",
        "\n",
        "# Calcular el MAE y el RMSE\n",
        "mae = mean_absolute_error(Y_train, Y_pred)\n",
        "rmse = math.sqrt(mean_squared_error(Y_train, Y_pred))\n",
        "\n",
        "# Imprimir los resultados\n",
        "print(\"MAE: {:.2f}\".format(mae))\n",
        "print(\"RMSE: {:.2f}\".format(rmse))"
      ],
      "metadata": {
        "id": "d91hLeu9tB7I"
      },
      "execution_count": null,
      "outputs": []
    },
    {
      "cell_type": "markdown",
      "source": [
        "## **5.2.COMPARATIVA OMISIÓN DE HIPERPARÁMETROS**"
      ],
      "metadata": {
        "id": "NV9NYFifgJ9E"
      }
    },
    {
      "cell_type": "markdown",
      "source": [
        "## **5.3.OPTIMIZACIÓN DE HIPERPARÁMETROS**"
      ],
      "metadata": {
        "id": "x7SwWqrlwGVb"
      }
    },
    {
      "cell_type": "markdown",
      "source": [
        "### Modelo SVMs "
      ],
      "metadata": {
        "id": "Q6Fo4XZbnd8O"
      }
    },
    {
      "cell_type": "code",
      "source": [
        "# Definir los parámetros a optimizar\n",
        "param_grid = {'C': [0.1, 1, 10], 'epsilon': [0.1, 0.2, 0.3], 'gamma': ['scale', 'auto']}\n",
        "\n",
        "# Crear el modelo SVR\n",
        "svm = SVR()\n",
        "\n",
        "# Realizar la búsqueda de los mejores parámetros\n",
        "svm_opt = GridSearchCV(svm, param_grid, scoring='neg_mean_absolute_error', cv=5)\n",
        "svm_opt.fit(X_train, Y_train)\n",
        "\n",
        "# Obtener los mejores parámetros\n",
        "best_params = svm_opt.best_params_\n",
        "print(\"Mejores parámetros:\", best_params)\n",
        "\n",
        "# Entrenar el modelo con los mejores parámetros\n",
        "svm = SVR(**best_params)\n",
        "svm.fit(X_train, Y_train)\n",
        "\n",
        "# Realizar predicciones en el conjunto de entrenamiento\n",
        "Y_pred = svm.predict(X_train)\n",
        "\n",
        "# Calcular el MAE y el RMSE\n",
        "mae = mean_absolute_error(Y_train, Y_pred)\n",
        "rmse = math.sqrt(mean_squared_error(Y_train, Y_pred))\n",
        "\n",
        "# Imprimir los resultados\n",
        "print(\"MAE: {:.2f}\".format(mae))\n",
        "print(\"RMSE: {:.2f}\".format(rmse))"
      ],
      "metadata": {
        "id": "tE4Ah495niD3"
      },
      "execution_count": null,
      "outputs": []
    },
    {
      "cell_type": "markdown",
      "source": [
        "### Modelo Random Forests "
      ],
      "metadata": {
        "id": "wJqZ_6Kgniev"
      }
    },
    {
      "cell_type": "code",
      "source": [
        "# Crear modelo de Random Forest\n",
        "rf = RandomForestRegressor()\n",
        "\n",
        "# Definir grid de hiperparámetros a evaluar\n",
        "param_grid = {\n",
        "    'n_estimators': [50, 100, 150],\n",
        "    'max_depth': [None, 5, 10],\n",
        "    'max_features': ['sqrt', 'log2']\n",
        "}\n",
        "\n",
        "# Crear objeto GridSearchCV para encontrar los mejores parámetros\n",
        "grid_rf = GridSearchCV(rf, param_grid, cv=3, n_jobs=-1, verbose=1)\n",
        "\n",
        "# Entrenar modelo con parámetros optimizados\n",
        "grid_rf.fit(X_train, Y_train)\n",
        "\n",
        "# Imprimir los mejores parámetros encontrados\n",
        "print(\"Mejores parámetros: \", grid_rf.best_params_)\n",
        "\n",
        "# Predecir valores para datos de test usando el modelo optimizado\n",
        "Y_pred = grid_rf.predict(X_train)\n",
        "\n",
        "# Calcular el MAE y el RMSE\n",
        "mae = mean_absolute_error(Y_train, Y_pred)\n",
        "rmse = math.sqrt(mean_squared_error(Y_train, Y_pred))\n",
        "\n",
        "# Imprimir los resultados\n",
        "print(\"MAE: {:.2f}\".format(mae))\n",
        "print(\"RMSE: {:.2f}\".format(rmse))"
      ],
      "metadata": {
        "id": "Jhp1pq_htS0H"
      },
      "execution_count": null,
      "outputs": []
    },
    {
      "cell_type": "markdown",
      "source": [
        "## **5.4.COMPARATIVA OPTIMIZACIÓN DE HIPERPARÁMETROS**\n",
        "\n",
        "\n",
        "\n"
      ],
      "metadata": {
        "id": "pqSJxfWVgXhC"
      }
    },
    {
      "cell_type": "markdown",
      "source": [
        "## **5.5.COMPARATIVA MODELOS AVANZADOS**"
      ],
      "metadata": {
        "id": "dPQzefcUgjNu"
      }
    },
    {
      "cell_type": "markdown",
      "source": [
        "# **6.MODELO FINAL**"
      ],
      "metadata": {
        "id": "5kPD0Q0vg0cE"
      }
    }
  ]
}