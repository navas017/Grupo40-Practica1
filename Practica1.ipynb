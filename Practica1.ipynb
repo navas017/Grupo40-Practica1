{
  "nbformat": 4,
  "nbformat_minor": 0,
  "metadata": {
    "colab": {
      "provenance": [],
      "include_colab_link": true
    },
    "kernelspec": {
      "name": "python3",
      "display_name": "Python 3"
    },
    "language_info": {
      "name": "python"
    }
  },
  "cells": [
    {
      "cell_type": "markdown",
      "metadata": {
        "id": "view-in-github",
        "colab_type": "text"
      },
      "source": [
        "<a href=\"https://colab.research.google.com/github/navas017/Grupo40-Practica1/blob/main/Practica1.ipynb\" target=\"_parent\"><img src=\"https://colab.research.google.com/assets/colab-badge.svg\" alt=\"Open In Colab\"/></a>"
      ]
    },
    {
      "cell_type": "markdown",
      "source": [
        "# **Importación de librerías** "
      ],
      "metadata": {
        "id": "tFYQvXTKdS84"
      }
    },
    {
      "cell_type": "code",
      "source": [
        "import pandas as pd\n",
        "import numpy as np\n",
        "from sklearn.model_selection import GridSearchCV\n",
        "from sklearn.linear_model import LinearRegression\n",
        "from sklearn.neighbors import KNeighborsRegressor\n",
        "from sklearn.tree import DecisionTreeRegressor\n",
        "from sklearn.metrics import make_scorer, mean_absolute_error, mean_squared_error\n",
        "import math"
      ],
      "metadata": {
        "id": "h51fr2e7dQcT"
      },
      "execution_count": 1,
      "outputs": []
    },
    {
      "cell_type": "markdown",
      "source": [
        "# **PROCESAMIENTO DE DATOS**"
      ],
      "metadata": {
        "id": "kQOXHsPMuWMo"
      }
    },
    {
      "cell_type": "markdown",
      "source": [
        "Lectura de archivos"
      ],
      "metadata": {
        "id": "fbcNjel_afJw"
      }
    },
    {
      "cell_type": "code",
      "execution_count": null,
      "metadata": {
        "id": "8SIXNoTtYCuP"
      },
      "outputs": [],
      "source": [
        "# Aprendizaje\n",
        "disp_df = pd.read_csv(\"/content/drive/MyDrive/Aprendizaje Automático/Datos/disp_st40ns1.txt.bz2\",\n",
        " compression=\"bz2\",\n",
        " index_col=0)\n",
        "\n",
        "# Test\n",
        "comp_df = pd.read_csv(\"/content/drive/MyDrive/Aprendizaje Automático/Datos/comp_st40ns1.txt.bz2\",\n",
        " compression=\"bz2\",\n",
        " index_col=0)"
      ]
    },
    {
      "cell_type": "markdown",
      "source": [
        "Partición de datos en conjuntos de entrenamiento y test"
      ],
      "metadata": {
        "id": "Px_Qygikc9mT"
      }
    },
    {
      "cell_type": "code",
      "source": [
        "train = disp_df.iloc[:5]\n",
        "test = disp_df.iloc[3650:]"
      ],
      "metadata": {
        "id": "Qo6MYoVxa6Jt"
      },
      "execution_count": null,
      "outputs": []
    },
    {
      "cell_type": "markdown",
      "source": [
        "Randomización de las filas en los ficheros de train y test y valores de entrenamiento"
      ],
      "metadata": {
        "id": "UvhkEI4GdiTg"
      }
    },
    {
      "cell_type": "code",
      "source": [
        "# Para la randomizacion de filas se usa la semilla 100429142\n",
        "train_random = train.sample(frac=1, random_state=100429142).reset_index(drop=True)\n",
        "test_random = test.sample(frac=1, random_state=100429142).reset_index(drop=True)\n",
        "\n",
        "# Separa las variables independientes (X) de la variable dependiente (y)\n",
        "X_train = train_random.iloc[:, :-1]\n",
        "Y_train = train_random.iloc[:, -1]"
      ],
      "metadata": {
        "id": "sSMSUlBHdnZQ"
      },
      "execution_count": null,
      "outputs": []
    },
    {
      "cell_type": "markdown",
      "source": [
        "# **MODELOS BÁSICOS**"
      ],
      "metadata": {
        "id": "Qk8bWTYWpJfG"
      }
    },
    {
      "cell_type": "markdown",
      "source": [
        "## **OMISIÓN DE HIPERPARÁMETROS**"
      ],
      "metadata": {
        "id": "F3JFXNoNpXE6"
      }
    },
    {
      "cell_type": "markdown",
      "source": [
        "Modelo *KNN* con omisión de hiperparámetros"
      ],
      "metadata": {
        "id": "2By3LI5Cf5xT"
      }
    },
    {
      "cell_type": "code",
      "source": [
        "# Crear el modelo con los parámetros por defecto\n",
        "knn = KNeighborsRegressor()\n",
        "\n",
        "# Entrena el modelo con el conjunto de entrenamiento\n",
        "knn.fit(X_train, Y_train)\n",
        "\n",
        "# Realiza predicciones en el conjunto de entrenamiento\n",
        "y_pred_train = knn.predict(X_train)\n",
        "\n",
        "# Calcula el MAE en el conjunto de entrenamiento\n",
        "mae_train = mean_absolute_error(Y_train, y_pred_train)\n",
        "\n",
        "# Calcula el RMSE en el conjunto de entrenamiento\n",
        "rmse_train = math.sqrt(mean_squared_error(Y_train, y_pred_train))\n",
        "\n",
        "# Muestra el valor del MAE y RMSE en el conjunto de entrenamiento\n",
        "print('MAE en el conjunto de entrenamiento:', mae_train)\n",
        "print('RMSE en el conjunto de entrenamiento:', rmse_train)"
      ],
      "metadata": {
        "colab": {
          "base_uri": "https://localhost:8080/"
        },
        "id": "fF4BlSOUgf5f",
        "outputId": "e9693f10-0dd1-4142-905e-d94726152c1c"
      },
      "execution_count": null,
      "outputs": [
        {
          "output_type": "stream",
          "name": "stdout",
          "text": [
            "MAE en el conjunto de entrenamiento: 2320715.78630137\n",
            "RMSE en el conjunto de entrenamiento: 3221546.9694545004\n"
          ]
        }
      ]
    },
    {
      "cell_type": "markdown",
      "source": [
        "Modelo Árbol de decisión con omisión de hiperparámetros"
      ],
      "metadata": {
        "id": "hkjllYEtpiNE"
      }
    },
    {
      "cell_type": "code",
      "source": [
        "# Crear el modelo con los parámetros por defecto\n",
        "tree = DecisionTreeRegressor()\n",
        "\n",
        "# Entrenar el modelo\n",
        "tree.fit(X_train, Y_train)\n",
        "\n",
        "# Realizar predicciones en el conjunto de entrenamiento\n",
        "Y_pred = tree.predict(X_train)\n",
        "\n",
        "# Calcular el MAE y el RMSE\n",
        "mae = mean_absolute_error(Y_train, Y_pred)\n",
        "rmse = math.sqrt(mean_squared_error(Y_train, Y_pred))\n",
        "\n",
        "# Imprimir los resultados\n",
        "print(\"MAE: {:.2f}\".format(mae))\n",
        "print(\"RMSE: {:.2f}\".format(rmse))"
      ],
      "metadata": {
        "id": "xynV8KtFpoOX"
      },
      "execution_count": null,
      "outputs": []
    },
    {
      "cell_type": "markdown",
      "source": [
        "Modelo Árbol de regresión lineal con omisión de hiperparámetros"
      ],
      "metadata": {
        "id": "4P_wgW7ErlfS"
      }
    },
    {
      "cell_type": "code",
      "source": [
        "# Crear modelo\n",
        "modelo_rl = LinearRegression()\n",
        "\n",
        "# Entrenar modelo\n",
        "modelo_rl.fit(X_train, Y_train)\n",
        "\n",
        "# Predecir valores para datos de test\n",
        "y_pred = modelo_rl.predict(X_train)\n",
        "\n",
        "mae = mean_absolute_error(Y_train, y_pred)\n",
        "rmse = math.sqrt(mean_squared_error(Y_train, y_pred))\n",
        "\n",
        "print(\"MAE:\", mae)\n",
        "print(\"RMSE:\", rmse)"
      ],
      "metadata": {
        "colab": {
          "base_uri": "https://localhost:8080/"
        },
        "id": "AgomG4NqroTo",
        "outputId": "18785378-58d1-462d-caf7-c28f9a71ec5d"
      },
      "execution_count": null,
      "outputs": [
        {
          "output_type": "stream",
          "name": "stdout",
          "text": [
            "MAE: 2175824.6934650526\n",
            "RMSE: 3137001.6072183605\n"
          ]
        }
      ]
    },
    {
      "cell_type": "markdown",
      "source": [
        "## **OPTIMIZACIÓN DE HIPERPARÁMETROS**"
      ],
      "metadata": {
        "id": "Vx6k8ZDUpw9N"
      }
    },
    {
      "cell_type": "markdown",
      "source": [
        "Modelo KNN con hiperparámetros óptimos"
      ],
      "metadata": {
        "id": "aVsbcOs8j90o"
      }
    },
    {
      "cell_type": "code",
      "source": [
        "knn = KNeighborsRegressor()\n",
        "\n",
        "# Definir cuadrícula de valores de hiperparámetros a explorar\n",
        "param_grid = {'n_neighbors': [1, 3, 5, 7, 9], 'p': [1, 2]}\n",
        "\n",
        "# Definir métricas de evaluación a utilizar\n",
        "scoring = {'MAE': make_scorer(mean_absolute_error), 'RMSE': make_scorer(mean_squared_error, squared=False)}\n",
        "\n",
        "# Realizar búsqueda exhaustiva de los mejores valores de los hiperparámetros\n",
        "grid_search = GridSearchCV(knn, param_grid=param_grid, scoring=scoring, refit='RMSE', cv=5)\n",
        "grid_search.fit(X_train, Y_train)\n",
        "\n",
        "# Imprimir mejores valores de los hiperparámetros y su rendimiento en términos de MAE y RMSE\n",
        "print('Mejores valores de hiperparámetros:', grid_search.best_params_)\n",
        "print('MAE con hiperparámetros optimizados:', grid_search.cv_results_['mean_test_MAE'][grid_search.best_index_])\n",
        "print('RMSE con hiperparámetros optimizados:', grid_search.cv_results_['mean_test_RMSE'][grid_search.best_index_])"
      ],
      "metadata": {
        "id": "21DlKgNDknd2"
      },
      "execution_count": null,
      "outputs": []
    },
    {
      "cell_type": "markdown",
      "source": [
        "Modelo Árbol de Decisión con hiperparámetros óptimos"
      ],
      "metadata": {
        "id": "xZtYEppltAFw"
      }
    },
    {
      "cell_type": "code",
      "source": [
        "# Definir el modelo\n",
        "tree = DecisionTreeRegressor()\n",
        "\n",
        "# Definir los parámetros a probar\n",
        "param_grid = {'max_depth': [3, 5, 7, 9], 'min_samples_leaf': [1, 2, 4, 8]}\n",
        "\n",
        "# Definir la búsqueda por validación cruzada\n",
        "grid_search = GridSearchCV(tree, param_grid, cv=5, scoring='neg_mean_squared_error')\n",
        "\n",
        "# Entrenar el modelo con los datos de entrenamiento\n",
        "grid_search.fit(X_train, Y_train)\n",
        "\n",
        "# Obtener los mejores parámetros y el mejor modelo\n",
        "best_params = grid_search.best_params_\n",
        "best_model = grid_search.best_estimator_\n",
        "\n",
        "# Realizar predicciones en el conjunto de entrenamiento\n",
        "Y_pred = best_model.predict(X_train)\n",
        "\n",
        "# Calcular el MAE y el RMSE\n",
        "mae = mean_absolute_error(Y_train, Y_pred)\n",
        "rmse = math.sqrt(mean_squared_error(Y_train, Y_pred))\n",
        "\n",
        "# Imprimir los resultados\n",
        "print(\"Mejores parámetros: \", best_params)\n",
        "print(\"MAE: {:.2f}\".format(mae))\n",
        "print(\"RMSE: {:.2f}\".format(rmse))"
      ],
      "metadata": {
        "id": "yGp0RoYjtGDK"
      },
      "execution_count": null,
      "outputs": []
    },
    {
      "cell_type": "markdown",
      "source": [
        "Modelo Árbol de Regresión Lineal con hiperparámetros óptimos"
      ],
      "metadata": {
        "id": "CheK11FUtZVw"
      }
    },
    {
      "cell_type": "markdown",
      "source": [
        "# **MODELOS AVANZADOS**"
      ],
      "metadata": {
        "id": "PQIGYzuuv4R8"
      }
    },
    {
      "cell_type": "markdown",
      "source": [
        "## **OMISIÓN DE HIPERPARÁMETROS**"
      ],
      "metadata": {
        "id": "idTqpkS_wB0c"
      }
    },
    {
      "cell_type": "markdown",
      "source": [
        "Modelo SVMs con omisión de hiperparámetros"
      ],
      "metadata": {
        "id": "MjVEuSqLm-OS"
      }
    },
    {
      "cell_type": "code",
      "source": [],
      "metadata": {
        "id": "pkv2jKEUm6ql"
      },
      "execution_count": null,
      "outputs": []
    },
    {
      "cell_type": "markdown",
      "source": [
        "Modelo Random Forests con omisión de hiperparámetros"
      ],
      "metadata": {
        "id": "a0JjQuQ7nYny"
      }
    },
    {
      "cell_type": "markdown",
      "source": [
        "## **OPTIMIZACIÓN DE HIPERPARÁMETROS**"
      ],
      "metadata": {
        "id": "x7SwWqrlwGVb"
      }
    },
    {
      "cell_type": "markdown",
      "source": [
        "Modelo SVMs con hiperparámetros óptimos"
      ],
      "metadata": {
        "id": "Q6Fo4XZbnd8O"
      }
    },
    {
      "cell_type": "code",
      "source": [],
      "metadata": {
        "id": "tE4Ah495niD3"
      },
      "execution_count": null,
      "outputs": []
    },
    {
      "cell_type": "markdown",
      "source": [
        "Modelo Random Forests con hiperparámetros óptimos"
      ],
      "metadata": {
        "id": "wJqZ_6Kgniev"
      }
    }
  ]
}