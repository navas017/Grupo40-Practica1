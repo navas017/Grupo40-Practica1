{
  "nbformat": 4,
  "nbformat_minor": 0,
  "metadata": {
    "colab": {
      "provenance": [],
      "collapsed_sections": [
        "tFYQvXTKdS84",
        "x7SwWqrlwGVb"
      ],
      "include_colab_link": true
    },
    "kernelspec": {
      "name": "python3",
      "display_name": "Python 3"
    },
    "language_info": {
      "name": "python"
    }
  },
  "cells": [
    {
      "cell_type": "markdown",
      "metadata": {
        "id": "view-in-github",
        "colab_type": "text"
      },
      "source": [
        "<a href=\"https://colab.research.google.com/github/navas017/Grupo40-Practica1/blob/main/Practica1.ipynb\" target=\"_parent\"><img src=\"https://colab.research.google.com/assets/colab-badge.svg\" alt=\"Open In Colab\"/></a>"
      ]
    },
    {
      "cell_type": "code",
      "source": [
        "from google.colab import drive\n",
        "drive.mount('/content/drive')"
      ],
      "metadata": {
        "colab": {
          "base_uri": "https://localhost:8080/"
        },
        "id": "2dFBwHLZP22u",
        "outputId": "f6f008d6-af2d-4c34-b9d8-7c07cdf8452c"
      },
      "execution_count": 24,
      "outputs": [
        {
          "output_type": "stream",
          "name": "stdout",
          "text": [
            "Drive already mounted at /content/drive; to attempt to forcibly remount, call drive.mount(\"/content/drive\", force_remount=True).\n"
          ]
        }
      ]
    },
    {
      "cell_type": "markdown",
      "source": [
        "# **IMPORTACIÓN DE LIBRERÍAS** "
      ],
      "metadata": {
        "id": "tFYQvXTKdS84"
      }
    },
    {
      "cell_type": "code",
      "source": [
        "import pandas as pd\n",
        "import numpy as np\n",
        "import urllib.request\n",
        "import bz2\n",
        "from sklearn.model_selection import GridSearchCV\n",
        "from sklearn.linear_model import LinearRegression\n",
        "from sklearn.neighbors import KNeighborsRegressor\n",
        "from sklearn.tree import DecisionTreeRegressor\n",
        "from sklearn.metrics import make_scorer, mean_absolute_error, mean_squared_error\n",
        "from sklearn import datasets\n",
        "from sklearn.model_selection import train_test_split\n",
        "from sklearn.svm import SVC\n",
        "from sklearn.svm import SVR\n",
        "from sklearn.metrics import accuracy_score\n",
        "from sklearn.ensemble import RandomForestRegressor\n",
        "import math"
      ],
      "metadata": {
        "id": "h51fr2e7dQcT"
      },
      "execution_count": 25,
      "outputs": []
    },
    {
      "cell_type": "markdown",
      "source": [
        "# **ANÁLISIS EXPLORATORIO DE DATOS (EDA)**"
      ],
      "metadata": {
        "id": "KcqrVZ40zgrV"
      }
    },
    {
      "cell_type": "markdown",
      "source": [
        "# **PROCESAMIENTO DE DATOS**"
      ],
      "metadata": {
        "id": "kQOXHsPMuWMo"
      }
    },
    {
      "cell_type": "markdown",
      "source": [
        "Lectura de archivos"
      ],
      "metadata": {
        "id": "fbcNjel_afJw"
      }
    },
    {
      "cell_type": "code",
      "execution_count": 26,
      "metadata": {
        "id": "8SIXNoTtYCuP"
      },
      "outputs": [],
      "source": [
        "# Aprendizaje\n",
        "disp_df = pd.read_csv(\"/content/drive/MyDrive/Aprendizaje Automático/Datos/disp_st40ns1.txt.bz2\",\n",
        " compression=\"bz2\",\n",
        " index_col=0)\n",
        "\n",
        "# Test\n",
        "comp_df = pd.read_csv(\"/content/drive/MyDrive/Aprendizaje Automático/Datos/comp_st40ns1.txt.bz2\",\n",
        " compression=\"bz2\",\n",
        " index_col=0)"
      ]
    },
    {
      "cell_type": "markdown",
      "source": [
        "Normalización de valores"
      ],
      "metadata": {
        "id": "8UDg_fM74FZm"
      }
    },
    {
      "cell_type": "code",
      "source": [
        "# Seleccionar todas las columnas a normalizar\n",
        "cols_to_norm_disp = disp_df.columns\n",
        "cols_to_norm_comp = comp_df.columns\n",
        "\n",
        "# Maximos y minimos para cada columna\n",
        "dispMaxCol = disp_df[cols_to_norm_disp].max()\n",
        "dispMinCol = disp_df[cols_to_norm_disp].min()\n",
        "\n",
        "compMaxCol = comp_df[cols_to_norm_comp].max()\n",
        "compMinCol = comp_df[cols_to_norm_comp].min()\n",
        "\n",
        "# Escalar los valores de las columnas en el rango [0, 1]\n",
        "disp_norm = (disp_df[cols_to_norm_disp] - dispMinCol) / (dispMaxCol - dispMinCol)\n",
        "comp_norm = (comp_df[cols_to_norm_comp] - compMinCol) / (compMaxCol - compMinCol)\n",
        "\n",
        "# Desnormalizar valor\n",
        "disp_desnorm = disp_norm[cols_to_norm_disp] * (dispMaxCol - dispMinCol) + dispMinCol\n",
        "comp_desnorm = comp_norm[cols_to_norm_comp] * (compMaxCol - compMinCol) + compMinCol\n",
        "\n",
        "\n",
        "# Guardar los DataFrames normalizados en nuevas variables\n",
        "#disps_df = disp_norm\n",
        "#comps_df = comp_norm"
      ],
      "metadata": {
        "id": "P6fgsGYa4G_1"
      },
      "execution_count": 27,
      "outputs": []
    },
    {
      "cell_type": "markdown",
      "source": [
        "Partición de datos en conjuntos de entrenamiento y test"
      ],
      "metadata": {
        "id": "Px_Qygikc9mT"
      }
    },
    {
      "cell_type": "code",
      "source": [
        "# Conjunto de datos no normalizados\n",
        "train = disp_df.iloc[:3650]\n",
        "test = disp_df.iloc[3650:]\n",
        "\n",
        "# Conjunto de datos normalizados\n",
        "train_norm = disp_norm.iloc[:3650]\n",
        "test_norm = disp_norm.iloc[3650:]"
      ],
      "metadata": {
        "id": "Qo6MYoVxa6Jt"
      },
      "execution_count": 28,
      "outputs": []
    },
    {
      "cell_type": "markdown",
      "source": [
        "Randomización de las filas en los ficheros de train y test y valores de entrenamiento"
      ],
      "metadata": {
        "id": "UvhkEI4GdiTg"
      }
    },
    {
      "cell_type": "code",
      "source": [
        "# Para la randomizacion de filas se usa la semilla 100429142\n",
        "train_random = train.sample(frac=1, random_state=100429142).reset_index(drop=True)\n",
        "test_random = test.sample(frac=1, random_state=100429142).reset_index(drop=True)\n",
        "\n",
        "# Randomizacion de conjuntos normalizados\n",
        "train_random_norm = train_norm.sample(frac=1, random_state=100429142).reset_index(drop=True)\n",
        "test_random_norm = test_norm.sample(frac=1, random_state=100429142).reset_index(drop=True)\n",
        "\n",
        "# Separa las variables independientes (X) de la variable dependiente (y)\n",
        "X_train = train_random.iloc[:, :-1]\n",
        "Y_train = train_random.iloc[:, -1]\n",
        "\n",
        "# Variables de conjunto de datos normalizado\n",
        "X_train_norm = train_random_norm.iloc[:, :-1]\n",
        "Y_train_norm = train_random_norm.iloc[:, -1]"
      ],
      "metadata": {
        "id": "sSMSUlBHdnZQ"
      },
      "execution_count": 29,
      "outputs": []
    },
    {
      "cell_type": "markdown",
      "source": [
        "# **MODELOS BÁSICOS**"
      ],
      "metadata": {
        "id": "Qk8bWTYWpJfG"
      }
    },
    {
      "cell_type": "markdown",
      "source": [
        "## **OMISIÓN DE HIPERPARÁMETROS**"
      ],
      "metadata": {
        "id": "F3JFXNoNpXE6"
      }
    },
    {
      "cell_type": "markdown",
      "source": [
        "Modelo *KNN* con omisión de hiperparámetros"
      ],
      "metadata": {
        "id": "2By3LI5Cf5xT"
      }
    },
    {
      "cell_type": "code",
      "source": [
        "# USA LOS VALORES NORMALIZADOS\n",
        "# EXPLICAR PORQUE SE NORMALIZA CON EL KNN\n",
        "\n",
        "# Crear el modelo con los parámetros por defecto\n",
        "knn = KNeighborsRegressor()\n",
        "\n",
        "# Entrena el modelo con el conjunto de entrenamiento\n",
        "knn.fit(X_train_norm, Y_train_norm)\n",
        "\n",
        "# Realiza predicciones en el conjunto de entrenamiento\n",
        "y_pred_train = knn.predict(X_train_norm)\n",
        "\n",
        "# Calcula el MAE en el conjunto de entrenamiento\n",
        "mae_train = mean_absolute_error(Y_train_norm, y_pred_train)\n",
        "\n",
        "# Calcula el RMSE en el conjunto de entrenamiento\n",
        "rmse_train = math.sqrt(mean_squared_error(Y_train_norm, y_pred_train))\n",
        "\n",
        "# Muestra el valor del MAE y RMSE en el conjunto de entrenamiento\n",
        "print('MAE en el conjunto de entrenamiento:', mae_train)\n",
        "print('RMSE en el conjunto de entrenamiento:', rmse_train)"
      ],
      "metadata": {
        "id": "fF4BlSOUgf5f",
        "colab": {
          "base_uri": "https://localhost:8080/"
        },
        "outputId": "937b375f-55a1-4374-8424-1a78eb9f047f"
      },
      "execution_count": 30,
      "outputs": [
        {
          "output_type": "stream",
          "name": "stdout",
          "text": [
            "MAE en el conjunto de entrenamiento: 0.06325374575398557\n",
            "RMSE en el conjunto de entrenamiento: 0.09351929384940294\n"
          ]
        }
      ]
    },
    {
      "cell_type": "markdown",
      "source": [
        "Modelo Árbol de decisión con omisión de hiperparámetros"
      ],
      "metadata": {
        "id": "hkjllYEtpiNE"
      }
    },
    {
      "cell_type": "code",
      "source": [
        "# EXPLICAR EL SOBREAPRENDIZAJE SI NO SE LIMITA LA MAX_DEPTH\n",
        "# ACABA CON 2^N HOJAS (CADA HOJA ES UN VALOR DE SALIDA)\n",
        "\n",
        "# Crear el modelo con los parámetros por defecto\n",
        "tree = DecisionTreeRegressor()\n",
        "\n",
        "# Entrenar el modelo\n",
        "tree.fit(X_train, Y_train)\n",
        "\n",
        "# Realizar predicciones en el conjunto de entrenamiento\n",
        "Y_pred = tree.predict(X_train)\n",
        "\n",
        "# Calcular el MAE y el RMSE\n",
        "mae = mean_absolute_error(Y_train, Y_pred)\n",
        "rmse = math.sqrt(mean_squared_error(Y_train, Y_pred))\n",
        "\n",
        "# Imprimir los resultados\n",
        "print(\"MAE: {:.2f}\".format(mae))\n",
        "print(\"RMSE: {:.2f}\".format(rmse))"
      ],
      "metadata": {
        "id": "xynV8KtFpoOX",
        "colab": {
          "base_uri": "https://localhost:8080/"
        },
        "outputId": "ca1aeabb-c377-4e44-a9ad-af4293791966"
      },
      "execution_count": 32,
      "outputs": [
        {
          "output_type": "stream",
          "name": "stdout",
          "text": [
            "MAE: 0.00\n",
            "RMSE: 0.00\n"
          ]
        }
      ]
    },
    {
      "cell_type": "markdown",
      "source": [
        "Modelo Árbol de regresión lineal con omisión de hiperparámetros"
      ],
      "metadata": {
        "id": "4P_wgW7ErlfS"
      }
    },
    {
      "cell_type": "code",
      "source": [
        "# Crear modelo\n",
        "modelo_rl = LinearRegression()\n",
        "\n",
        "# Entrenar modelo\n",
        "modelo_rl.fit(X_train, Y_train)\n",
        "\n",
        "# Predecir valores para datos de test\n",
        "y_pred = modelo_rl.predict(X_train)\n",
        "\n",
        "mae = mean_absolute_error(Y_train, y_pred)\n",
        "rmse = math.sqrt(mean_squared_error(Y_train, y_pred))\n",
        "\n",
        "print(\"MAE:\", mae)\n",
        "print(\"RMSE:\", rmse)"
      ],
      "metadata": {
        "colab": {
          "base_uri": "https://localhost:8080/"
        },
        "id": "AgomG4NqroTo",
        "outputId": "f052b11e-958a-4235-e3ac-26c541ff0f6c"
      },
      "execution_count": 11,
      "outputs": [
        {
          "output_type": "stream",
          "name": "stdout",
          "text": [
            "MAE: 2175824.693466923\n",
            "RMSE: 3137001.6072183605\n"
          ]
        }
      ]
    },
    {
      "cell_type": "markdown",
      "source": [
        "## **OPTIMIZACIÓN DE HIPERPARÁMETROS**"
      ],
      "metadata": {
        "id": "Vx6k8ZDUpw9N"
      }
    },
    {
      "cell_type": "markdown",
      "source": [
        "Modelo KNN con hiperparámetros óptimos"
      ],
      "metadata": {
        "id": "aVsbcOs8j90o"
      }
    },
    {
      "cell_type": "code",
      "source": [
        "# PARA LA OPTIMIZACION DE PARAMETROS HAY QUE OBTENER EL CV USANDO LOS SPLITS (AG DEL PROFE)\n",
        "\n",
        "knn = KNeighborsRegressor()\n",
        "\n",
        "# Definir cuadrícula de valores de hiperparámetros a explorar\n",
        "param_grid = {'n_neighbors': [1, 3, 5, 7, 9], 'p': [1, 2]}\n",
        "\n",
        "# Definir métricas de evaluación a utilizar\n",
        "scoring = {'MAE': make_scorer(mean_absolute_error), 'RMSE': make_scorer(mean_squared_error, squared=False)}\n",
        "\n",
        "# Realizar búsqueda exhaustiva de los mejores valores de los hiperparámetros\n",
        "grid_search = GridSearchCV(knn, param_grid=param_grid, scoring=scoring, refit='RMSE', cv=5)\n",
        "grid_search.fit(X_train_norm, Y_train_norm)\n",
        "\n",
        "# Imprimir mejores valores de los hiperparámetros y su rendimiento en términos de MAE y RMSE\n",
        "print('Mejores valores de hiperparámetros:', grid_search.best_params_)\n",
        "print('MAE con hiperparámetros optimizados:', grid_search.cv_results_['mean_test_MAE'][grid_search.best_index_])\n",
        "print('RMSE con hiperparámetros optimizados:', grid_search.cv_results_['mean_test_RMSE'][grid_search.best_index_])"
      ],
      "metadata": {
        "id": "21DlKgNDknd2",
        "colab": {
          "base_uri": "https://localhost:8080/"
        },
        "outputId": "36dbfc32-f601-4d58-8d84-7b9f7de38e76"
      },
      "execution_count": 31,
      "outputs": [
        {
          "output_type": "stream",
          "name": "stdout",
          "text": [
            "Mejores valores de hiperparámetros: {'n_neighbors': 1, 'p': 2}\n",
            "MAE con hiperparámetros optimizados: 0.09814935657787989\n",
            "RMSE con hiperparámetros optimizados: 0.14678364478816083\n"
          ]
        }
      ]
    },
    {
      "cell_type": "markdown",
      "source": [
        "Modelo Árbol de Decisión con hiperparámetros óptimos"
      ],
      "metadata": {
        "id": "xZtYEppltAFw"
      }
    },
    {
      "cell_type": "code",
      "source": [
        "# Definir el modelo\n",
        "tree = DecisionTreeRegressor()\n",
        "\n",
        "# Definir los parámetros a probar\n",
        "param_grid = {'max_depth': [3, 5, 7, 9], 'min_samples_leaf': [1, 2, 4, 8]}\n",
        "\n",
        "# Definir la búsqueda por validación cruzada\n",
        "grid_search = GridSearchCV(tree, param_grid, cv=5, scoring='neg_mean_squared_error')\n",
        "\n",
        "# Entrenar el modelo con los datos de entrenamiento\n",
        "grid_search.fit(X_train, Y_train)\n",
        "\n",
        "# Obtener los mejores parámetros y el mejor modelo\n",
        "best_params = grid_search.best_params_\n",
        "best_model = grid_search.best_estimator_\n",
        "\n",
        "# Realizar predicciones en el conjunto de entrenamiento\n",
        "Y_pred = best_model.predict(X_train)\n",
        "\n",
        "# Calcular el MAE y el RMSE\n",
        "mae = mean_absolute_error(Y_train, Y_pred)\n",
        "rmse = math.sqrt(mean_squared_error(Y_train, Y_pred))\n",
        "\n",
        "# Imprimir los resultados\n",
        "print(\"Mejores parámetros: \", best_params)\n",
        "print(\"MAE: {:.2f}\".format(mae))\n",
        "print(\"RMSE: {:.2f}\".format(rmse))"
      ],
      "metadata": {
        "id": "yGp0RoYjtGDK",
        "colab": {
          "base_uri": "https://localhost:8080/"
        },
        "outputId": "dd34e9bf-b0dc-4c6b-9f8f-62fad39da1b9"
      },
      "execution_count": 18,
      "outputs": [
        {
          "output_type": "stream",
          "name": "stdout",
          "text": [
            "Mejores parámetros:  {'max_depth': 5, 'min_samples_leaf': 8}\n",
            "MAE: 2318272.61\n",
            "RMSE: 3311822.32\n"
          ]
        }
      ]
    },
    {
      "cell_type": "markdown",
      "source": [
        "Modelo Árbol de Regresión Lineal con hiperparámetros óptimos"
      ],
      "metadata": {
        "id": "CheK11FUtZVw"
      }
    },
    {
      "cell_type": "markdown",
      "source": [
        "HACER LASSO Y RIDGE"
      ],
      "metadata": {
        "id": "LlMveSl-ZTcB"
      }
    },
    {
      "cell_type": "markdown",
      "source": [
        "# **MODELOS AVANZADOS**"
      ],
      "metadata": {
        "id": "PQIGYzuuv4R8"
      }
    },
    {
      "cell_type": "markdown",
      "source": [
        "## **OMISIÓN DE HIPERPARÁMETROS**"
      ],
      "metadata": {
        "id": "idTqpkS_wB0c"
      }
    },
    {
      "cell_type": "markdown",
      "source": [
        "Modelo SVMs con omisión de hiperparámetros"
      ],
      "metadata": {
        "id": "MjVEuSqLm-OS"
      }
    },
    {
      "cell_type": "code",
      "source": [
        "# Crear un clasificador SVM sin ajuste de hiperparámetros\n",
        "clf = SVC(kernel='linear', C=1, random_state=0)\n",
        "\n",
        "# Entrenar el clasificador en los datos de entrenamiento\n",
        "clf.fit(X_train, Y_train)\n",
        "\n",
        "# Hacer predicciones en los datos de entrenamiento\n",
        "y_pred_train = clf.predict(X_train)\n",
        "\n",
        "# Evaluar el rendimiento del clasificador en los datos de entrenamiento\n",
        "accuracy_train = clf.score(X_train, Y_train)\n",
        "print(\"Accuracy en los datos de entrenamiento:\", accuracy_train)"
      ],
      "metadata": {
        "id": "pkv2jKEUm6ql"
      },
      "execution_count": null,
      "outputs": []
    },
    {
      "cell_type": "markdown",
      "source": [
        "Modelo Random Forests con omisión de hiperparámetros"
      ],
      "metadata": {
        "id": "a0JjQuQ7nYny"
      }
    },
    {
      "cell_type": "code",
      "source": [
        "# Crear modelo con los parámetros por defecto\n",
        "rf = RandomForestRegressor()\n",
        "\n",
        "# Entrenar el modelo\n",
        "rf.fit(X_train, Y_train)\n",
        "\n",
        "# Realizar predicciones en el conjunto de entrenamiento\n",
        "Y_pred = rf.predict(X_train)\n",
        "\n",
        "# Calcular el MAE y el RMSE\n",
        "mae = mean_absolute_error(Y_train, Y_pred)\n",
        "rmse = math.sqrt(mean_squared_error(Y_train, Y_pred))\n",
        "\n",
        "# Imprimir los resultados\n",
        "print(\"MAE: {:.2f}\".format(mae))\n",
        "print(\"RMSE: {:.2f}\".format(rmse))"
      ],
      "metadata": {
        "id": "d91hLeu9tB7I"
      },
      "execution_count": null,
      "outputs": []
    },
    {
      "cell_type": "markdown",
      "source": [
        "## **OPTIMIZACIÓN DE HIPERPARÁMETROS**"
      ],
      "metadata": {
        "id": "x7SwWqrlwGVb"
      }
    },
    {
      "cell_type": "markdown",
      "source": [
        "Modelo SVMs con hiperparámetros óptimos"
      ],
      "metadata": {
        "id": "Q6Fo4XZbnd8O"
      }
    },
    {
      "cell_type": "code",
      "source": [
        "# Definir los parámetros a optimizar\n",
        "param_grid = {'C': [0.1, 1, 10], 'epsilon': [0.1, 0.2, 0.3], 'gamma': ['scale', 'auto']}\n",
        "\n",
        "# Crear el modelo SVR\n",
        "svm = SVR()\n",
        "\n",
        "# Realizar la búsqueda de los mejores parámetros\n",
        "svm_opt = GridSearchCV(svm, param_grid, scoring='neg_mean_absolute_error', cv=5)\n",
        "svm_opt.fit(X_train, Y_train)\n",
        "\n",
        "# Obtener los mejores parámetros\n",
        "best_params = svm_opt.best_params_\n",
        "print(\"Mejores parámetros:\", best_params)\n",
        "\n",
        "# Entrenar el modelo con los mejores parámetros\n",
        "svm = SVR(**best_params)\n",
        "svm.fit(X_train, Y_train)\n",
        "\n",
        "# Realizar predicciones en el conjunto de entrenamiento\n",
        "Y_pred = svm.predict(X_train)\n",
        "\n",
        "# Calcular el MAE y el RMSE\n",
        "mae = mean_absolute_error(Y_train, Y_pred)\n",
        "rmse = math.sqrt(mean_squared_error(Y_train, Y_pred))\n",
        "\n",
        "# Imprimir los resultados\n",
        "print(\"MAE: {:.2f}\".format(mae))\n",
        "print(\"RMSE: {:.2f}\".format(rmse))"
      ],
      "metadata": {
        "id": "tE4Ah495niD3"
      },
      "execution_count": null,
      "outputs": []
    },
    {
      "cell_type": "markdown",
      "source": [
        "Modelo Random Forests con hiperparámetros óptimos"
      ],
      "metadata": {
        "id": "wJqZ_6Kgniev"
      }
    },
    {
      "cell_type": "code",
      "source": [
        "# Crear modelo de Random Forest\n",
        "rf = RandomForestRegressor()\n",
        "\n",
        "# Definir grid de hiperparámetros a evaluar\n",
        "param_grid = {\n",
        "    'n_estimators': [50, 100, 150],\n",
        "    'max_depth': [None, 5, 10],\n",
        "    'max_features': ['sqrt', 'log2']\n",
        "}\n",
        "\n",
        "# Crear objeto GridSearchCV para encontrar los mejores parámetros\n",
        "grid_rf = GridSearchCV(rf, param_grid, cv=3, n_jobs=-1, verbose=1)\n",
        "\n",
        "# Entrenar modelo con parámetros optimizados\n",
        "grid_rf.fit(X_train, Y_train)\n",
        "\n",
        "# Imprimir los mejores parámetros encontrados\n",
        "print(\"Mejores parámetros: \", grid_rf.best_params_)\n",
        "\n",
        "# Predecir valores para datos de test usando el modelo optimizado\n",
        "Y_pred = grid_rf.predict(X_train)\n",
        "\n",
        "# Calcular el MAE y el RMSE\n",
        "mae = mean_absolute_error(Y_train, Y_pred)\n",
        "rmse = math.sqrt(mean_squared_error(Y_train, Y_pred))\n",
        "\n",
        "# Imprimir los resultados\n",
        "print(\"MAE: {:.2f}\".format(mae))\n",
        "print(\"RMSE: {:.2f}\".format(rmse))"
      ],
      "metadata": {
        "id": "Jhp1pq_htS0H"
      },
      "execution_count": null,
      "outputs": []
    }
  ]
}