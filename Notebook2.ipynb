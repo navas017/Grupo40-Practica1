{
  "nbformat": 4,
  "nbformat_minor": 0,
  "metadata": {
    "colab": {
      "provenance": [],
      "authorship_tag": "ABX9TyMgnIipst4IeKqaQHddQLMG",
      "include_colab_link": true
    },
    "kernelspec": {
      "name": "python3",
      "display_name": "Python 3"
    },
    "language_info": {
      "name": "python"
    }
  },
  "cells": [
    {
      "cell_type": "markdown",
      "metadata": {
        "id": "view-in-github",
        "colab_type": "text"
      },
      "source": [
        "<a href=\"https://colab.research.google.com/github/navas017/Grupo40-Practica1/blob/main/Notebook2.ipynb\" target=\"_parent\"><img src=\"https://colab.research.google.com/assets/colab-badge.svg\" alt=\"Open In Colab\"/></a>"
      ]
    },
    {
      "cell_type": "code",
      "execution_count": 60,
      "metadata": {
        "id": "IcGmhYMMkOTv",
        "colab": {
          "base_uri": "https://localhost:8080/"
        },
        "outputId": "98d84548-a225-424d-b151-768e05c93852"
      },
      "outputs": [
        {
          "output_type": "stream",
          "name": "stdout",
          "text": [
            "Drive already mounted at /content/drive; to attempt to forcibly remount, call drive.mount(\"/content/drive\", force_remount=True).\n"
          ]
        }
      ],
      "source": [
        "from google.colab import drive\n",
        "drive.mount('/content/drive')"
      ]
    },
    {
      "cell_type": "markdown",
      "source": [
        "# **1. LIBRERÍAS Y DATOS** "
      ],
      "metadata": {
        "id": "tFYQvXTKdS84"
      }
    },
    {
      "cell_type": "markdown",
      "source": [
        "### Importación de librerías"
      ],
      "metadata": {
        "id": "FphFyx04hLj3"
      }
    },
    {
      "cell_type": "code",
      "source": [
        "import pandas as pd\n",
        "import numpy as np\n",
        "import urllib.request\n",
        "import pickle"
      ],
      "metadata": {
        "id": "h51fr2e7dQcT"
      },
      "execution_count": 61,
      "outputs": []
    },
    {
      "cell_type": "markdown",
      "source": [
        "### Importación de datos"
      ],
      "metadata": {
        "id": "WzycICUfqcIa"
      }
    },
    {
      "cell_type": "code",
      "source": [
        "# Aprendizaje\n",
        "disp_df = pd.read_csv(\"/content/drive/MyDrive/Aprendizaje Automático/Datos/disp_st40ns1.txt.bz2\",\n",
        " compression=\"bz2\",\n",
        " index_col=0)\n",
        "\n",
        "# Test\n",
        "comp_df = pd.read_csv(\"/content/drive/MyDrive/Aprendizaje Automático/Datos/comp_st40ns1.txt.bz2\",\n",
        " compression=\"bz2\",\n",
        " index_col=0)"
      ],
      "metadata": {
        "id": "s0q5mPlrqZRf"
      },
      "execution_count": 62,
      "outputs": []
    },
    {
      "cell_type": "markdown",
      "source": [
        "# **2. PREPARACIÓN DE DATOS**"
      ],
      "metadata": {
        "id": "276M_TRcxPkt"
      }
    },
    {
      "cell_type": "markdown",
      "source": [
        "### Matriz de Correlación"
      ],
      "metadata": {
        "id": "Qh7ljOS0XpEn"
      }
    },
    {
      "cell_type": "code",
      "source": [
        "# Calcular la matriz de correlación\n",
        "corr_matrix_disp = disp_df.corr()\n",
        "corr_matrix_comp = comp_df.corr()"
      ],
      "metadata": {
        "id": "zTDtSddHqWPk"
      },
      "execution_count": 63,
      "outputs": []
    },
    {
      "cell_type": "markdown",
      "source": [
        "### Eliminación de atributos"
      ],
      "metadata": {
        "id": "Y-GXqLBTsBUS"
      }
    },
    {
      "cell_type": "code",
      "source": [
        "# Crear listas vacía para guardar pares de atributos con correlación mayor a 0.95\n",
        "high_corr_pairs_disps = []\n",
        "high_corr_pairs_comp = []\n",
        "\n",
        "# Recorrer las matrizes de correlación para disps_df y comp_df\n",
        "for i in range(len(corr_matrix_disp.columns)):\n",
        "    for j in range(i):\n",
        "        # Verificar si el coeficiente de correlación es mayor a 0.9 y diferentes entre sí\n",
        "        if abs(corr_matrix_disp.iloc[i, j]) > 0.95 and corr_matrix_disp.columns[i] != corr_matrix_disp.columns[j]:\n",
        "            # Guardar pares de atributos con correlación mayor a 0.9\n",
        "            high_corr_pairs_disps.append((corr_matrix_disp.columns[i], corr_matrix_disp.columns[j]))\n",
        "\n",
        "for i in range(len(corr_matrix_comp.columns)):\n",
        "    for j in range(i):\n",
        "        # Verificar si el coeficiente de correlación es mayor a 0.9 y diferentes entre sí\n",
        "        if abs(corr_matrix_comp.iloc[i, j]) > 0.95 and corr_matrix_comp.columns[i] != corr_matrix_comp.columns[j]:\n",
        "            # Guardar pares de atributos con correlación mayor a 0.9\n",
        "            high_corr_pairs_comp.append((corr_matrix_comp.columns[i], corr_matrix_comp.columns[j]))\n",
        "\n",
        "# Crear nuevos dataframe sin los atributos correlacionados\n",
        "new_disp_df = disp_df.copy()\n",
        "new_comp_df = comp_df.copy()\n",
        "\n",
        "# Eliminar los atributos correlacionados\n",
        "for attr_pair in high_corr_pairs_disps:\n",
        "    if attr_pair[0] in new_disp_df.columns and attr_pair[1] in new_disp_df.columns:\n",
        "        # Calcular la correlación entre los atributos\n",
        "        corr = comp_df[attr_pair[0]].corr(comp_df[attr_pair[1]])\n",
        "        #print(f'Eliminando atributo {attr_pair[1]} debido a la alta correlación con {attr_pair[0]} (corr={corr:.2f})')\n",
        "        new_disp_df.drop(attr_pair[1], axis='columns', inplace=True)\n",
        "\n",
        "for attr_pair in high_corr_pairs_disps:\n",
        "    if attr_pair[0] in new_comp_df.columns and attr_pair[1] in new_comp_df.columns:\n",
        "        corr = comp_df[attr_pair[0]].corr(comp_df[attr_pair[1]])\n",
        "        new_comp_df.drop(attr_pair[1], axis='columns', inplace=True)\n",
        "\n",
        "new_corr_matrix_disp = new_disp_df.corr()"
      ],
      "metadata": {
        "id": "Wr4fVN7GsIYY"
      },
      "execution_count": 64,
      "outputs": []
    },
    {
      "cell_type": "markdown",
      "source": [
        "### Normalización de valores"
      ],
      "metadata": {
        "id": "nKyw-EkqtuUH"
      }
    },
    {
      "cell_type": "code",
      "source": [
        "# Seleccionar todas las columnas a normalizar\n",
        "new_cols_to_norm_disp = new_disp_df.columns\n",
        "new_cols_to_norm_comp = new_comp_df.columns\n",
        "\n",
        "# Seleccionar las filas de entrenamiento\n",
        "new_disp_first = new_disp_df.iloc[:3650, :]\n",
        "\n",
        "# Maximos y minimos para cada columna en las filas de entrenamiento\n",
        "new_dispMaxCol = new_disp_first[new_cols_to_norm_disp].max()\n",
        "new_dispMinCol = new_disp_first[new_cols_to_norm_disp].min()\n",
        "\n",
        "# Maximos y minimos para cada columna de las primeras 3650 filas para comp\n",
        "new_compMaxCol = new_dispMaxCol.drop('salida', axis=0)\n",
        "new_compMinCol = new_dispMinCol.drop('salida', axis=0)\n",
        "\n",
        "# Escalar los valores de las columnas en el rango [0, 1]\n",
        "new_disp_norm = (new_disp_df[new_cols_to_norm_disp] - new_dispMinCol) / (new_dispMaxCol - new_dispMinCol)\n",
        "new_comp_norm = (new_comp_df[new_cols_to_norm_comp] - new_compMinCol) / (new_compMaxCol - new_compMinCol)\n",
        "\n",
        "# Ultimas columnas para desnormalizar\n",
        "new_dispMaxCol_last = new_dispMaxCol[-1]\n",
        "new_dispMinCol_last = new_dispMinCol[-1]"
      ],
      "metadata": {
        "id": "N-QPfexbtuUH"
      },
      "execution_count": 65,
      "outputs": []
    },
    {
      "cell_type": "markdown",
      "source": [
        "# **3. CARGA DEL MODELO Y PREDICCIONES**"
      ],
      "metadata": {
        "id": "3Nfr66OmvW2M"
      }
    },
    {
      "cell_type": "markdown",
      "source": [
        "**Carga de modelo**"
      ],
      "metadata": {
        "id": "FEjt09AHwMzv"
      }
    },
    {
      "cell_type": "code",
      "source": [
        "# Cargar modelo entrenado desde archivo .pkl\n",
        "with open('modelo_final.pkl', 'rb') as f:\n",
        "    new_model = pickle.load(f)"
      ],
      "metadata": {
        "id": "FAdIK8_ZwMzw"
      },
      "execution_count": 66,
      "outputs": []
    },
    {
      "cell_type": "markdown",
      "source": [
        "**Predicciones**"
      ],
      "metadata": {
        "id": "5GJw1VctwMzw"
      }
    },
    {
      "cell_type": "code",
      "source": [
        "# Hacer predicciones en el conjunto de datos de prueba\n",
        "preds = new_model.predict(new_comp_norm)\n",
        "\n",
        "preds_desnorm = preds * (new_dispMaxCol_last - new_dispMinCol_last) + new_dispMinCol_last\n",
        "\n",
        "# crea un DataFrame a partir de las predicciones desnormalizadas\n",
        "df_preds = pd.DataFrame(preds_desnorm, columns=['prediccion_desnormalizada'])\n",
        "\n",
        "# guarda el DataFrame en un archivo CSV\n",
        "df_preds.to_csv('predicciones.csv', index=False)\n",
        "\n",
        "# Configurar la impresión del array\n",
        "np.set_printoptions(precision=3, suppress=True, linewidth=100)\n",
        "\n",
        "# Imprimir el array\n",
        "print(preds_desnorm)"
      ],
      "metadata": {
        "colab": {
          "base_uri": "https://localhost:8080/"
        },
        "id": "ikI5CNHRwMzw",
        "outputId": "fe6bbef4-6d17-411a-fe23-13a7c0fccda6"
      },
      "execution_count": 67,
      "outputs": [
        {
          "output_type": "stream",
          "name": "stdout",
          "text": [
            "[10987293.    11351603.8    8246163.    11549010.    11825013.778 11594842.875 11858547.\n",
            " 11752834.4   12014198.6   12958434.    10895784.    11402796.667 10991796.    13570440.\n",
            " 11804388.778 12717774.    10280623.909  8104395.    10067388.437 13248837.85  11132154.176\n",
            " 10469856.5   12460092.    11835654.     7125615.    12848235.    13865937.    11623287.\n",
            "  7090935.     5830272.    11102916.    13186620.    13971321.    14135232.    14105466.\n",
            " 12290226.    12417726.    13816959.    14164185.    14481525.    14890290.    14996154.\n",
            " 15015063.    13598850.    16259475.    16671711.    16372803.    17341569.    16786826.\n",
            " 16309266.     8966475.     7613361.     6129870.    10533420.     8138208.    11489067.\n",
            " 12108744.    11148945.    11468241.    17694837.    15660300.    18095857.091 16930989.\n",
            "  9732153.    16300314.    12652077.    16678206.    19236171.    12359484.    12417315.\n",
            " 16100637.    17559429.    19812486.    20439852.    20072760.    20938014.    15475242.\n",
            " 21114196.     7142859.     3657939.     2964219.    13924131.    22774854.    17646291.\n",
            " 14172897.    23905281.    22449999.429 20639394.    18172722.    21644052.     4142433.\n",
            " 14923788.    21234846.429 14822046.    23404707.    20760950.8   19957723.4   19872545.571\n",
            " 19948788.    18846120.    23239386.    24271596.    21948714.871 13626390.    23342392.\n",
            " 23823253.5   19561999.4   21089655.    26223224.    26703986.    26765216.    27114119.4\n",
            " 17684622.    26301885.    23667538.4   18080322.    18937266.    15251613.    26894402.4\n",
            " 26367044.123  5470599.     8946705.    26098764.    21627645.    20905005.    19270163.571\n",
            " 13107420.    13239918.    11460897.    12802788.    12453996.    23871771.    21716463.\n",
            " 29186850.    28234989.    27395421.    21669201.    27132438.    28537505.    28470774.\n",
            " 28768724.    28634703.    27423924.    22880607.    24037392.    26526705.    27427040.25\n",
            " 28177566.    27163269.    23026944.    20095078.4   25296930.    26986111.    23903010.\n",
            " 24660014.4   29007684.    28492611.    22579668.    28642191.    27969243.    28557882.\n",
            " 29673870.    28459711.5   27438831.    28809749.    28367010.    29268889.5   29661414.\n",
            " 28485891.    26739144.    14748330.    28390323.    24470082.    28478694.    23531484.\n",
            " 26013797.    21839463.    28720024.8   26667492.    25680582.    25412247.    29153727.\n",
            " 28628112.    28365141.    28667139.    25259805.    22691880.    24947922.    22551594.\n",
            " 23585838.    26733621.    21279562.4   21403962.    21196748.8   25663936.5   24228078.\n",
            " 26948490.    25775985.    27539904.    26802898.75  26951433.    27257971.4   27128982.\n",
            " 27328509.    22112057.8   26494539.    26383053.    26115073.373 26378555.873 23471844.\n",
            " 15018423.    20368484.6   21263625.    26178297.873 25524072.589 23766535.4   23505841.4\n",
            " 23108561.8   25146933.2   25636275.075 25756868.2   23575545.    21909801.    23270620.4\n",
            " 26314403.873 18433137.8   18124344.    22415717.8   16846404.    13731729.    19721867.8\n",
            " 24489321.    21986862.2   23145623.2   21705898.2   15786414.    16972164.    19892079.\n",
            " 20833627.7   21315334.2   21114650.8   13358781.    17033583.    24306090.771 23753977.\n",
            " 23168302.152 18706857.     7366461.    15474432.    12104340.    23089383.    24074503.5\n",
            " 20459800.3   15291837.    19965048.    19955685.    19373868.    21768303.5   22738370.438\n",
            " 20681671.    17434054.4   19237104.     9036915.    22864783.4   22464589.5   20933409.\n",
            " 16975734.    21943206.438 19492959.    20097864.    21338982.    20702883.    19774698.\n",
            " 20110771.286 20110816.125 19896366.    17260556.8   19082067.    19176912.    16424649.\n",
            " 16030740.    16680646.5   15939213.    16460253.    11392308.    10172763.    18522093.\n",
            " 16824804.429 17845785.375 15184086.     3282165.     9158241.    16846026.    14019523.4\n",
            " 13924644.    16372848.    16214076.    16579785.    17251087.125 11868519.     5546040.\n",
            " 12628032.    12727560.    15849198.    16523961.     8846358.    15108036.    13893207.\n",
            " 12094359.    12070494.    10465506.     4495077.     8126784.    12381702.9   14486886.\n",
            " 14336529.    13470102.    14366982.     9614127.    11547105.    10479141.     9641916.\n",
            " 13116528.    13118662.978 13381656.    13534407.    13607580.    13158135.    13209546.\n",
            " 13433652.    12538041.    10680645.     5307483.     3979350.    11568960.     6741600.\n",
            "  5556603.    13379043.    13387863.    15350292.    13971831.    11942715.    12282934.714\n",
            " 12466225.432 12164397.    10827284.     8868111.    10793886.    12183774.    10861086.\n",
            " 11344529.455 12080943.    12059463.    12158433.     3198012.     2091537.     7014468.\n",
            " 11014975.107 11814465.122 11135190.     6943926.    12082365.    10715710.333  9453804.176\n",
            "  2786169.     1803486.     8718762.     9009978.    12368710.75  10576600.909  8699001.\n",
            "  9290883.    11947948.875  7621443.    12204392.025 12039270.6   12446368.2   11984789.85\n",
            "  8613936.     2099781.     4135125.     4829613.    11556504.    11141949.     8894505.\n",
            " 10727313.     6114372.     4411029.    12215994.    13106391.    11233233.    11829438.\n",
            " 14709549.    13727217.     8981589.    14398665.    11719047.    13027347.     6752043.\n",
            "  7698963.    11931564.    14196588.    14534118.    15490338.    13825509.     4190673.\n",
            "  4411587.     8009427.    11869896.     9323940.     4506111.     9924330.     8190678.\n",
            " 12601224.    13885722.    15651150.    16701291.    16775898.    15534786.    19424802.\n",
            " 14087781.    12274326.    10953348.    17573679.    18210674.5   17974899.    14097840.\n",
            " 18000165.    18909900.    17056296.    18760380.    18691257.    16546176.    19659527.375\n",
            " 17707138.091 17220630.    18903813.     5148870.    12314175.    15186819.    16123551.\n",
            " 14583582.    20252376.    19911783.    15234459.     6599040.     5481186.    12293625.\n",
            " 10704414.    12522645.     8150802.    10682280.     2837208.    13717653.    11251701.\n",
            "  6191001.     7598700.    22176552.    23925087.038 21993583.    22296777.    23323413.429\n",
            " 15749586.    12226059.    13270617.    10710792.    15375795.    10901136.    23548689.667\n",
            " 21679687.4    3889800.    10944702.    26785489.2   21735619.4    4549470.    17671941.\n",
            " 21203084.371 23470567.4   23911725.    21648639.     9223620.    16884558.    16608588.\n",
            " 26422977.407 18729603.    27127763.523 24452805.    16077459.    15797373.    17937762.\n",
            " 18684198.    20985825.    11611902.    10012725.    12288942.     6033876.    12432891.\n",
            " 15051411.    20114502.    26393154.    27076025.059 25906825.286 15744123.    27103658.\n",
            " 24688617.    15971118.    23198217.    23519586.    10786293.    10603077.    10499097.\n",
            "  9328287.    13178997.    18754172.8   12084108.    10456353.    15074829.    12555126.\n",
            " 23896057.4   14833329.    17957415.    21933072.    24957080.4   28211073.    25621392.\n",
            " 23965017.    27486270.    19134768.    21076227.    23890554.    19265073.    22543527.\n",
            " 21841317.    19937400.    19509705.    16287342.    14509401.    19372623.    14798337.\n",
            " 22472418.    17881359.    20100864.    23471763.    18525387.75  14144502.    12724542.\n",
            " 12028542.    12306183.    19114005.    20003865.55  13843500.    17154609.    19227912.\n",
            " 19803933.    21179024.571 26419803.    27615822.    24944595.    25622259.    25866835.8\n",
            " 18255078.    10927794.    26071035.    27614492.5   27387759.    26704463.4   26216793.\n",
            " 25934385.    25188547.8   24351027.    23071365.    21470046.    24213645.    27276563.4\n",
            " 26058033.023 23779976.8   23332314.    25333798.673 19357875.    16731177.    17186751.\n",
            " 23282316.    24249498.    25675179.    25522995.    26192292.    25811564.873 25269450.\n",
            " 25372194.    26972551.    26497134.    26229057.    26060790.    25212235.4   23415482.6\n",
            " 19264879.    13120452.    12933360.    17385627.    22782343.    23748171.    23542356.\n",
            " 22952106.6   19439093.8   21211011.    23975828.5   24404685.6   24181050.5   22190229.4\n",
            " 17343498.    23459574.    24216009.    24412838.25  17038554.    12324702.    17902455.\n",
            " 19068799.4   13004463.    13942896.    13772799.    13598070.    23840377.5   22525935.009\n",
            " 21338898.    19984779.    19322079.    20184018.    17389896.    15112542.    17047431.\n",
            " 19910476.4   19805739.    19976952.    17236236.    16569114.    11031855.    18916200.\n",
            " 18451419.    16615143.    18651339.    14314842.    17955936.    13446075.    16850244.\n",
            " 17533134.    15910557.    14875164.    11779284.    15258627.    19494331.286 18589443.\n",
            " 16453871.    14383308.    15793059.     7905999.    14251905.    16847989.5    9605109.\n",
            " 17758843.5   18224631.    16756945.5   15769407.     2687385.    16114857.    16491105.\n",
            " 16743228.    17144340.375 15862092.    14408193.    14969238.    14569860.    12682371.\n",
            " 15530369.5   14606157.    14354112.    14560542.    13886598.    13265193.    14252496.\n",
            " 14239260.    14675004.     9359901.     9067524.    11928690.    13111827.    13538550.\n",
            " 14265300.    12099111.    12130194.    13484244.    13590861.    13315842.    12133380.\n",
            "  8064315.     8285064.     4742298.     3519720.    14586636.    12658434.     9543036.\n",
            " 11772780.     3066432.     3222375.    12263961.    12565825.214 11299739.455 10036092.176\n",
            "  6930123.     6997395.     6851004.     3048690.     3888720.     2957430.     2998482.\n",
            " 11876823.714  4453845.     7376289.    12183287.307  8820246.5   12732354.    11423628.6\n",
            " 12071495.25   8559642.     5741748.    11446635.833 13195569.    12626142.     5679948.\n",
            "  8439765.    11084760.    10207884.    13118325.    13030863.   ]\n"
          ]
        }
      ]
    },
    {
      "cell_type": "markdown",
      "source": [
        "# **4. CONCLUSIONES**"
      ],
      "metadata": {
        "id": "kx11SnOa3Ziu"
      }
    }
  ]
}